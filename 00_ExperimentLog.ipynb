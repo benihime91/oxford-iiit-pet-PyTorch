{
  "nbformat": 4,
  "nbformat_minor": 0,
  "metadata": {
    "colab": {
      "name": "00-ExperimentLog.ipynb",
      "provenance": [],
      "collapsed_sections": [
        "fMBr1LfVXSEW",
        "_6rmhTSKYASE",
        "Ka0ItH0LYuu1",
        "vH0VC7qNbD1S",
        "eFNrOLQ2nRgF",
        "iYoNG8J_t0RT",
        "jVqx-K8s1Fqs",
        "Y0EwNYtt7xZp",
        "kegfxKfMC38y",
        "Bosj5r96zCeG"
      ],
      "mount_file_id": "1lEHy0eoIwCS_z-iehTA5vlq6MLntmxXm",
      "authorship_tag": "ABX9TyMeDWccrYNsyRi9tf/uz1Jy",
      "include_colab_link": true
    },
    "kernelspec": {
      "name": "python3",
      "display_name": "Python 3"
    },
    "language_info": {
      "name": "python"
    },
    "accelerator": "GPU"
  },
  "cells": [
    {
      "cell_type": "markdown",
      "metadata": {
        "id": "view-in-github",
        "colab_type": "text"
      },
      "source": [
        "<a href=\"https://colab.research.google.com/github/benihime91/pytorch_examples/blob/master/00_ExperimentLog.ipynb\" target=\"_parent\"><img src=\"https://colab.research.google.com/assets/colab-badge.svg\" alt=\"Open In Colab\"/></a>"
      ]
    },
    {
      "cell_type": "code",
      "metadata": {
        "id": "CIttbuJAV3vv"
      },
      "source": [
        "%load_ext autoreload\n",
        "%autoreload 2\n",
        "%matplotlib inline\n",
        "import warnings\n",
        "\n",
        "warnings.filterwarnings(\"ignore\")"
      ],
      "execution_count": 2,
      "outputs": []
    },
    {
      "cell_type": "code",
      "metadata": {
        "id": "FjEbaEVaWQj9"
      },
      "source": [
        "# install required dependencies for google colab\n",
        "# !pip install --upgrade seaborn albumentations fastcore pytorch_lightning"
      ],
      "execution_count": null,
      "outputs": []
    },
    {
      "cell_type": "markdown",
      "metadata": {
        "id": "02qYzvKbV8fx"
      },
      "source": [
        "# Task 2"
      ]
    },
    {
      "cell_type": "markdown",
      "metadata": {
        "id": "xCkK2vzKWGkW"
      },
      "source": [
        "## Part - 1\n",
        "> Use this dataset (https://www.dropbox.com/s/pan6mutc5xj5kj0/trainPart1.zip) to train a CNN. Use no other data source or pretrained networks, and explain your design choices during preprocessing, model building and training. Also, cite the sources you used to borrow techniques. A test set will be provided later to judge the performance of your classifier. Please save your model checkpoints."
      ]
    },
    {
      "cell_type": "markdown",
      "metadata": {
        "id": "asp5xGW_WMhz"
      },
      "source": [
        "Let's us first download the given dataset."
      ]
    },
    {
      "cell_type": "code",
      "metadata": {
        "id": "vtkjtbGpWrQb"
      },
      "source": [
        "import os\n",
        "\n",
        "os.makedirs(\"Data\")"
      ],
      "execution_count": 5,
      "outputs": []
    },
    {
      "cell_type": "code",
      "metadata": {
        "colab": {
          "base_uri": "https://localhost:8080/"
        },
        "id": "cPHZ2tdmXHNy",
        "outputId": "b3ff1c98-7c0e-47db-abb5-b0a64c9e8c46"
      },
      "source": [
        "!wget -P \"Data/\" https://www.dropbox.com/s/pan6mutc5xj5kj0/trainPart1.zip\n",
        "!unzip --qq \"Data/trainPart1.zip\" -d \"Data/\""
      ],
      "execution_count": 7,
      "outputs": [
        {
          "output_type": "stream",
          "text": [
            "--2021-04-04 05:31:15--  https://www.dropbox.com/s/pan6mutc5xj5kj0/trainPart1.zip\n",
            "Resolving www.dropbox.com (www.dropbox.com)... 162.125.6.18, 2620:100:601c:18::a27d:612\n",
            "Connecting to www.dropbox.com (www.dropbox.com)|162.125.6.18|:443... connected.\n",
            "HTTP request sent, awaiting response... 301 Moved Permanently\n",
            "Location: /s/raw/pan6mutc5xj5kj0/trainPart1.zip [following]\n",
            "--2021-04-04 05:31:16--  https://www.dropbox.com/s/raw/pan6mutc5xj5kj0/trainPart1.zip\n",
            "Reusing existing connection to www.dropbox.com:443.\n",
            "HTTP request sent, awaiting response... 302 Found\n",
            "Location: https://ucf09ec34583bf4b9f91d6974280.dl.dropboxusercontent.com/cd/0/inline/BL_R5b9y7qEdo6ZtqpQLy3haF6VE4x5DWa9jxRTmSsjJc_qNrGklsYdjJpy-PkwmfmsR5dKB-OHo1qAo9NyD5YNS_MnmWaitihnt1Gqg-WFCAyQdnjXICMsvJcCYs4XoCum6OhMrQMB8QIr_lCEnyo-k/file# [following]\n",
            "--2021-04-04 05:31:16--  https://ucf09ec34583bf4b9f91d6974280.dl.dropboxusercontent.com/cd/0/inline/BL_R5b9y7qEdo6ZtqpQLy3haF6VE4x5DWa9jxRTmSsjJc_qNrGklsYdjJpy-PkwmfmsR5dKB-OHo1qAo9NyD5YNS_MnmWaitihnt1Gqg-WFCAyQdnjXICMsvJcCYs4XoCum6OhMrQMB8QIr_lCEnyo-k/file\n",
            "Resolving ucf09ec34583bf4b9f91d6974280.dl.dropboxusercontent.com (ucf09ec34583bf4b9f91d6974280.dl.dropboxusercontent.com)... 162.125.6.15, 2620:100:6019:15::a27d:40f\n",
            "Connecting to ucf09ec34583bf4b9f91d6974280.dl.dropboxusercontent.com (ucf09ec34583bf4b9f91d6974280.dl.dropboxusercontent.com)|162.125.6.15|:443... connected.\n",
            "HTTP request sent, awaiting response... 302 Found\n",
            "Location: /cd/0/inline2/BL_P7GbYZ9JvaoQNiRFXOzxKpVylVn5d5dH5pdfGxDMleUCFKBrVpqJJmC9lS0FUrpdDVcftqiNLbjaWEO5jTzQcYN2yzWKxjyRF-bAfl75kbP7UYGrgXoIpSrfc8wTSE0HmMXDBxUA5q7E0ciNx9bFmKSpXPoM9q-MdHxL4gx1bP9Cug6CQiTnIUrJ-k5jh06HBTGO8Xb7BSudNxptCKYkNQZAv-niq0pjVS_FXuipjgU-z6mykax78dBR6wpjGuso90uBoDPXwnTE1dUKAGLUF187DmkyUr59bMeGpaA1VLniaEq25t9DB6Xc85rO5sUYlooydAyjcPVfFIe2FfCiZJ-RSeMbBn1PUzibm0TlJAKkyuZKrSwQmg209N23O1ro/file [following]\n",
            "--2021-04-04 05:31:16--  https://ucf09ec34583bf4b9f91d6974280.dl.dropboxusercontent.com/cd/0/inline2/BL_P7GbYZ9JvaoQNiRFXOzxKpVylVn5d5dH5pdfGxDMleUCFKBrVpqJJmC9lS0FUrpdDVcftqiNLbjaWEO5jTzQcYN2yzWKxjyRF-bAfl75kbP7UYGrgXoIpSrfc8wTSE0HmMXDBxUA5q7E0ciNx9bFmKSpXPoM9q-MdHxL4gx1bP9Cug6CQiTnIUrJ-k5jh06HBTGO8Xb7BSudNxptCKYkNQZAv-niq0pjVS_FXuipjgU-z6mykax78dBR6wpjGuso90uBoDPXwnTE1dUKAGLUF187DmkyUr59bMeGpaA1VLniaEq25t9DB6Xc85rO5sUYlooydAyjcPVfFIe2FfCiZJ-RSeMbBn1PUzibm0TlJAKkyuZKrSwQmg209N23O1ro/file\n",
            "Reusing existing connection to ucf09ec34583bf4b9f91d6974280.dl.dropboxusercontent.com:443.\n",
            "HTTP request sent, awaiting response... 200 OK\n",
            "Length: 10059590 (9.6M) [application/zip]\n",
            "Saving to: ‘Data/trainPart1.zip’\n",
            "\n",
            "trainPart1.zip      100%[===================>]   9.59M  --.-KB/s    in 0.06s   \n",
            "\n",
            "2021-04-04 05:31:17 (172 MB/s) - ‘Data/trainPart1.zip’ saved [10059590/10059590]\n",
            "\n"
          ],
          "name": "stdout"
        }
      ]
    },
    {
      "cell_type": "markdown",
      "metadata": {
        "id": "fMBr1LfVXSEW"
      },
      "source": [
        "### Analyzing the Dataset\n",
        "> In this part we will analyze the get familiar with the given dataset."
      ]
    },
    {
      "cell_type": "code",
      "metadata": {
        "id": "KSkpCrcLXaRp"
      },
      "source": [
        "# imports\n",
        "import os\n",
        "import random\n",
        "from typing import *\n",
        "\n",
        "import matplotlib.pyplot as plt\n",
        "import pandas as pd\n",
        "from fastcore.all import *\n",
        "from torchvision.datasets.folder import IMG_EXTENSIONS\n",
        "\n",
        "pd.set_option(\"display.max_colwidth\", None)"
      ],
      "execution_count": 8,
      "outputs": []
    },
    {
      "cell_type": "code",
      "metadata": {
        "colab": {
          "base_uri": "https://localhost:8080/"
        },
        "id": "hqblcJPnXd7c",
        "outputId": "8629e276-2eee-4730-917b-2ce36fca390a"
      },
      "source": [
        "DATASET_01_PATH = Path(\"Data/train/\")\n",
        "DATASET_01_PATH.ls()"
      ],
      "execution_count": 11,
      "outputs": [
        {
          "output_type": "execute_result",
          "data": {
            "text/plain": [
              "(#62) [Path('Data/train/Sample022'),Path('Data/train/Sample049'),Path('Data/train/Sample042'),Path('Data/train/Sample014'),Path('Data/train/Sample024'),Path('Data/train/Sample061'),Path('Data/train/Sample004'),Path('Data/train/Sample005'),Path('Data/train/Sample033'),Path('Data/train/Sample020')...]"
            ]
          },
          "metadata": {
            "tags": []
          },
          "execution_count": 11
        }
      ]
    },
    {
      "cell_type": "markdown",
      "metadata": {
        "id": "7g4-FfRrXf_i"
      },
      "source": [
        "To make the data exploration easy I will store the datapaths and their labels into a pandas datataframe and then we will proceed from there."
      ]
    },
    {
      "cell_type": "code",
      "metadata": {
        "id": "xcAjvjblXn9Q"
      },
      "source": [
        "def folder2df(directory: Union[str, Path], extensions: list = IMG_EXTENSIONS,\n",
        "              shuffle: bool = False, seed: int = 42):\n",
        "    \"\"\"\n",
        "    Parses all the Images in `directory` and puts them in a `DataFrame` object.\n",
        "    \"\"\"\n",
        "\n",
        "    random.seed(seed)\n",
        "\n",
        "    image_list = L()\n",
        "    target_list = L()\n",
        "\n",
        "    if not isinstance(directory, Path):\n",
        "        directory = Path(directory)\n",
        "\n",
        "    for label in directory.ls():\n",
        "        label = Path(label)\n",
        "        if os.path.isdir(label):\n",
        "            for img in label.ls():\n",
        "                if str(img).lower().endswith(extensions):\n",
        "                    image_list.append(img)\n",
        "                    target_list.append(str(label).split(os.path.sep)[-1])\n",
        "\n",
        "    print(f\"Found {len(image_list)} files belonging to {len(set(target_list))} classes.\")\n",
        "\n",
        "    dataframe: pd.DataFrame = pd.DataFrame()\n",
        "    dataframe[\"image_id\"] = image_list.map(str)\n",
        "    dataframe[\"target\"] = target_list\n",
        "    if shuffle:\n",
        "        dataframe = (dataframe.sample(frac=1, random_state=seed)\n",
        "                     .reset_index(inplace=False, drop=True))\n",
        "    return dataframe"
      ],
      "execution_count": 12,
      "outputs": []
    },
    {
      "cell_type": "code",
      "metadata": {
        "colab": {
          "base_uri": "https://localhost:8080/",
          "height": 221
        },
        "id": "fI-aXyU-XpbQ",
        "outputId": "01cdb80a-28c0-4b17-d540-ec119e80b50f"
      },
      "source": [
        "DATASET_01_DF = folder2df(directory=DATASET_01_PATH, shuffle=True)\n",
        "DATASET_01_DF.head()"
      ],
      "execution_count": 13,
      "outputs": [
        {
          "output_type": "stream",
          "text": [
            "Found 2480 files belonging to 62 classes.\n"
          ],
          "name": "stdout"
        },
        {
          "output_type": "execute_result",
          "data": {
            "text/html": [
              "<div>\n",
              "<style scoped>\n",
              "    .dataframe tbody tr th:only-of-type {\n",
              "        vertical-align: middle;\n",
              "    }\n",
              "\n",
              "    .dataframe tbody tr th {\n",
              "        vertical-align: top;\n",
              "    }\n",
              "\n",
              "    .dataframe thead th {\n",
              "        text-align: right;\n",
              "    }\n",
              "</style>\n",
              "<table border=\"1\" class=\"dataframe\">\n",
              "  <thead>\n",
              "    <tr style=\"text-align: right;\">\n",
              "      <th></th>\n",
              "      <th>image_id</th>\n",
              "      <th>target</th>\n",
              "    </tr>\n",
              "  </thead>\n",
              "  <tbody>\n",
              "    <tr>\n",
              "      <th>0</th>\n",
              "      <td>Data/train/Sample006/img006-021.png</td>\n",
              "      <td>Sample006</td>\n",
              "    </tr>\n",
              "    <tr>\n",
              "      <th>1</th>\n",
              "      <td>Data/train/Sample004/img004-036.png</td>\n",
              "      <td>Sample004</td>\n",
              "    </tr>\n",
              "    <tr>\n",
              "      <th>2</th>\n",
              "      <td>Data/train/Sample058/img058-025.png</td>\n",
              "      <td>Sample058</td>\n",
              "    </tr>\n",
              "    <tr>\n",
              "      <th>3</th>\n",
              "      <td>Data/train/Sample015/img015-003.png</td>\n",
              "      <td>Sample015</td>\n",
              "    </tr>\n",
              "    <tr>\n",
              "      <th>4</th>\n",
              "      <td>Data/train/Sample049/img049-004.png</td>\n",
              "      <td>Sample049</td>\n",
              "    </tr>\n",
              "  </tbody>\n",
              "</table>\n",
              "</div>"
            ],
            "text/plain": [
              "                              image_id     target\n",
              "0  Data/train/Sample006/img006-021.png  Sample006\n",
              "1  Data/train/Sample004/img004-036.png  Sample004\n",
              "2  Data/train/Sample058/img058-025.png  Sample058\n",
              "3  Data/train/Sample015/img015-003.png  Sample015\n",
              "4  Data/train/Sample049/img049-004.png  Sample049"
            ]
          },
          "metadata": {
            "tags": []
          },
          "execution_count": 13
        }
      ]
    },
    {
      "cell_type": "code",
      "metadata": {
        "colab": {
          "base_uri": "https://localhost:8080/"
        },
        "id": "rmIk-P2AXrbF",
        "outputId": "a12977f4-7e99-4355-ab7c-e78db5524f8f"
      },
      "source": [
        "unq_cls = DATASET_01_DF.target.unique()\n",
        "tot_itm = len(DATASET_01_DF)\n",
        "print(\"Total number of Images in the Dataset: \", tot_itm)\n",
        "print(\"Number of unique classes in the Dataset: \",len(unq_cls))"
      ],
      "execution_count": 14,
      "outputs": [
        {
          "output_type": "stream",
          "text": [
            "Total number of Images in the Dataset:  2480\n",
            "Number of unique classes in the Dataset:  62\n"
          ],
          "name": "stdout"
        }
      ]
    },
    {
      "cell_type": "code",
      "metadata": {
        "colab": {
          "base_uri": "https://localhost:8080/",
          "height": 442
        },
        "id": "kD9BffaOXtT2",
        "outputId": "b6a54a82-e575-4b8e-a74d-03faa431a9e9"
      },
      "source": [
        "import seaborn as sns\n",
        "\n",
        "_, ax = plt.subplots(1, 1, figsize=(22, 8))\n",
        "sns.countplot(data=DATASET_01_DF, x=\"target\", ax=ax);\n",
        "plt.xticks(rotation=90);"
      ],
      "execution_count": 15,
      "outputs": [
        {
          "output_type": "display_data",
          "data": {
            "image/png": "[encoded data removed]",
            "text/plain": [
              "<Figure size 1584x576 with 1 Axes>"
            ]
          },
          "metadata": {
            "tags": [],
            "needs_background": "light"
          }
        }
      ]
    },
    {
      "cell_type": "markdown",
      "metadata": {
        "id": "nXu2FJYvXwN6"
      },
      "source": [
        "The distibution across all the classes is exactly same. This is a good thing because in this way our model will be less prone to overfitting for a prticular class."
      ]
    },
    {
      "cell_type": "markdown",
      "metadata": {
        "id": "z0f2amnjX1IT"
      },
      "source": [
        "Let's view images from the dataset :"
      ]
    },
    {
      "cell_type": "code",
      "metadata": {
        "id": "071gjc6VX28W"
      },
      "source": [
        "import torch\n",
        "from torchvision.io import read_image\n",
        "from torchvision.utils import make_grid"
      ],
      "execution_count": 16,
      "outputs": []
    },
    {
      "cell_type": "code",
      "metadata": {
        "colab": {
          "base_uri": "https://localhost:8080/",
          "height": 608
        },
        "id": "TstlRn99X4T3",
        "outputId": "40691b68-d807-4afa-81d3-4aebc955d79e"
      },
      "source": [
        "unq_ims = L()\n",
        "\n",
        "for c in unq_cls:\n",
        "    unq_series = DATASET_01_DF.loc[DATASET_01_DF[\"target\"] == c].reset_index(drop=True, inplace=False)\n",
        "    im_path = unq_series[\"image_id\"][0]\n",
        "    unq_ims.append(read_image(im_path))\n",
        "    \n",
        "unq_ims = torch.stack([o for o in unq_ims])\n",
        "\n",
        "grid = make_grid(unq_ims).permute(1, 2, 0)\n",
        "fig = plt.figure(figsize=(13, 13))\n",
        "plt.imshow(grid) \n",
        "plt.title(\"Unique Images\");"
      ],
      "execution_count": 17,
      "outputs": [
        {
          "output_type": "display_data",
          "data": {
            "image/png": "[encoded data removed]",
            "text/plain": [
              "<Figure size 936x936 with 1 Axes>"
            ]
          },
          "metadata": {
            "tags": [],
            "needs_background": "light"
          }
        }
      ]
    },
    {
      "cell_type": "markdown",
      "metadata": {
        "id": "3hMs8kQwX6hE"
      },
      "source": [
        "> Before feeding the images into a CNN we need to normalize the images. Data Normalization insures that each input parameter pixel has a similar data distribution. This makes convergence faster while training the network.\n",
        "\n",
        "> Now the above dataset is almost similar to the MNIST dataset. So instead of manually calculating the channel mean and std for normalizing the images, I will use the precomputed values for `mean`, `std` for `MNIST Dataset`."
      ]
    },
    {
      "cell_type": "code",
      "metadata": {
        "id": "aDLFSRZsX-rm"
      },
      "source": [
        "MEAN, STD = [0.15, 0.15, 0.15], [0.15, 0.15, 0.15]"
      ],
      "execution_count": 18,
      "outputs": []
    },
    {
      "cell_type": "markdown",
      "metadata": {
        "id": "_6rmhTSKYASE"
      },
      "source": [
        "### Creating the Dataset "
      ]
    },
    {
      "cell_type": "markdown",
      "metadata": {
        "id": "7mT-BtUiYCqe"
      },
      "source": [
        "Since, in this task in am going to be using `PyTorch`, before we can directly start training the `CNN network`, we need to get our data into `Dataset` and `DataLoader`."
      ]
    },
    {
      "cell_type": "code",
      "metadata": {
        "id": "LXuQWbBuYEXs"
      },
      "source": [
        "import torchvision.transforms as T\n",
        "from PIL import Image\n",
        "from torch.utils.data import DataLoader, Dataset"
      ],
      "execution_count": 19,
      "outputs": []
    },
    {
      "cell_type": "markdown",
      "metadata": {
        "id": "uf5eLkaHYF9w"
      },
      "source": [
        "We also need to encode our string labels into interger labels."
      ]
    },
    {
      "cell_type": "code",
      "metadata": {
        "id": "_tAbGVDMYR9Y"
      },
      "source": [
        "from functools import partial\n",
        "\n",
        "from sklearn.preprocessing import LabelEncoder"
      ],
      "execution_count": 21,
      "outputs": []
    },
    {
      "cell_type": "code",
      "metadata": {
        "colab": {
          "base_uri": "https://localhost:8080/",
          "height": 204
        },
        "id": "eVIXgw04YJ5x",
        "outputId": "7629a8d4-4061-4b9d-e949-9c53ca4cc28d"
      },
      "source": [
        "encoder = LabelEncoder()\n",
        "\n",
        "encoder.fit(unq_cls)\n",
        "\n",
        "def encode_label(x):\n",
        "    \"Encoder `x`, given x is a scalar value\"\n",
        "    return encoder.transform([x]).item()\n",
        "\n",
        "# DATASET_01_CLASS_MAP = L(list(encoder.classes_)).map_dict(encode_label)\n",
        "# DATASET_01_CLASS_MAP = {k:v for v, k in DATASET_01_CLASS_MAP.items()}\n",
        "\n",
        "DATASET_01_DF[\"cat_label\"] = DATASET_01_DF[\"target\"].map(encode_label)\n",
        "DATASET_01_DF.head()"
      ],
      "execution_count": 22,
      "outputs": [
        {
          "output_type": "execute_result",
          "data": {
            "text/html": [
              "<div>\n",
              "<style scoped>\n",
              "    .dataframe tbody tr th:only-of-type {\n",
              "        vertical-align: middle;\n",
              "    }\n",
              "\n",
              "    .dataframe tbody tr th {\n",
              "        vertical-align: top;\n",
              "    }\n",
              "\n",
              "    .dataframe thead th {\n",
              "        text-align: right;\n",
              "    }\n",
              "</style>\n",
              "<table border=\"1\" class=\"dataframe\">\n",
              "  <thead>\n",
              "    <tr style=\"text-align: right;\">\n",
              "      <th></th>\n",
              "      <th>image_id</th>\n",
              "      <th>target</th>\n",
              "      <th>cat_label</th>\n",
              "    </tr>\n",
              "  </thead>\n",
              "  <tbody>\n",
              "    <tr>\n",
              "      <th>0</th>\n",
              "      <td>Data/train/Sample006/img006-021.png</td>\n",
              "      <td>Sample006</td>\n",
              "      <td>5</td>\n",
              "    </tr>\n",
              "    <tr>\n",
              "      <th>1</th>\n",
              "      <td>Data/train/Sample004/img004-036.png</td>\n",
              "      <td>Sample004</td>\n",
              "      <td>3</td>\n",
              "    </tr>\n",
              "    <tr>\n",
              "      <th>2</th>\n",
              "      <td>Data/train/Sample058/img058-025.png</td>\n",
              "      <td>Sample058</td>\n",
              "      <td>57</td>\n",
              "    </tr>\n",
              "    <tr>\n",
              "      <th>3</th>\n",
              "      <td>Data/train/Sample015/img015-003.png</td>\n",
              "      <td>Sample015</td>\n",
              "      <td>14</td>\n",
              "    </tr>\n",
              "    <tr>\n",
              "      <th>4</th>\n",
              "      <td>Data/train/Sample049/img049-004.png</td>\n",
              "      <td>Sample049</td>\n",
              "      <td>48</td>\n",
              "    </tr>\n",
              "  </tbody>\n",
              "</table>\n",
              "</div>"
            ],
            "text/plain": [
              "                              image_id     target  cat_label\n",
              "0  Data/train/Sample006/img006-021.png  Sample006          5\n",
              "1  Data/train/Sample004/img004-036.png  Sample004          3\n",
              "2  Data/train/Sample058/img058-025.png  Sample058         57\n",
              "3  Data/train/Sample015/img015-003.png  Sample015         14\n",
              "4  Data/train/Sample049/img049-004.png  Sample049         48"
            ]
          },
          "metadata": {
            "tags": []
          },
          "execution_count": 22
        }
      ]
    },
    {
      "cell_type": "markdown",
      "metadata": {
        "id": "InRu75JbYS6D"
      },
      "source": [
        "Let's also create a Training and Validation split on the data.\n",
        "\n",
        "Why we need a different training and validation split for the data ?\n",
        "> This is so that we don't inadvertently overfit, train a model to work well only on our training data. For this purpose we will compute metric over on the validation data. During the training phase the model will see only the training data. The Validation data will remain separate and will only be used for calculation of the *metric*. "
      ]
    },
    {
      "cell_type": "code",
      "metadata": {
        "id": "e9YRWmMAYXPu"
      },
      "source": [
        "from sklearn.model_selection import train_test_split\n",
        "\n",
        "TRAIN_DATASET_01, VALID_DATASET_01 = train_test_split(DATASET_01_DF, \n",
        "                                                      test_size=0.2, random_state=42, \n",
        "                                                      shuffle=True, stratify=DATASET_01_DF['cat_label'])\n",
        "\n",
        "TRAIN_DATASET_01 = TRAIN_DATASET_01.reset_index(drop=True, inplace=False)\n",
        "VALID_DATASET_01 = VALID_DATASET_01.reset_index(drop=True, inplace=False) "
      ],
      "execution_count": 23,
      "outputs": []
    },
    {
      "cell_type": "markdown",
      "metadata": {
        "id": "-m0bwAFHYbKL"
      },
      "source": [
        "Now we will create a custom `Dataset` obj that can parse the data."
      ]
    },
    {
      "cell_type": "code",
      "metadata": {
        "id": "4tCeY67JYilJ"
      },
      "source": [
        "class Dataset_01(Dataset):\n",
        "    def __init__(self, df:pd.DataFrame, transforms: T.Compose = None):\n",
        "        self._dataframe  = df\n",
        "        self._transforms = transforms\n",
        "    \n",
        "    @property\n",
        "    def transforms(self):\n",
        "        return self._transforms\n",
        "        \n",
        "    def __len__(self):\n",
        "        return len(self._dataframe)\n",
        "    \n",
        "    def __getitem__(self, idx):\n",
        "        im = self._dataframe['image_id'][idx]\n",
        "        im = Image.open(im)\n",
        "        \n",
        "        if self._transforms is not None:\n",
        "            im = self._transforms(im)\n",
        "        \n",
        "        lbl = self._dataframe[\"cat_label\"][idx]   \n",
        "        return im, lbl"
      ],
      "execution_count": 24,
      "outputs": []
    },
    {
      "cell_type": "markdown",
      "metadata": {
        "id": "6NHWPxawYj4I"
      },
      "source": [
        "Before we instante the dataset we will also need to preprocess the images. For that i will `Torchvision.Transforms`,\n",
        "initially for the BaseLine model, I will only convert the images to tensors & apply normalization. I will also resize the images to `64x64` image sizes. This will ensure that the shape of all the images are same.\n",
        "\n",
        "Why `64x64` ?\n",
        "> Since this seems like a fairly simple task i will first experiment will smaller images and then if it requires I will increase the image dimensions.\n",
        "\n",
        "On a later section we will explore more advanced data augmentation techniques."
      ]
    },
    {
      "cell_type": "code",
      "metadata": {
        "id": "BsS6h-b9Ymb6"
      },
      "source": [
        "IMG_SIZE = 64\n",
        "\n",
        "base_tfms = T.Compose([\n",
        "    T.Resize((IMG_SIZE, IMG_SIZE)),\n",
        "    T.CenterCrop((IMG_SIZE, IMG_SIZE)),\n",
        "    T.ToTensor(),\n",
        "    T.Normalize(torch.tensor(MEAN), torch.tensor(STD)),\n",
        "    T.Grayscale(num_output_channels=3),\n",
        "])\n",
        "\n",
        "def get_loaders():\n",
        "    # instantiate the dataset set obj\n",
        "    train_ds = Dataset_01(df=TRAIN_DATASET_01, transforms=base_tfms)\n",
        "    valid_ds = Dataset_01(df=VALID_DATASET_01, transforms=base_tfms)\n",
        "\n",
        "    # create the dataloaders obj\n",
        "    train_dl = DataLoader(train_ds, batch_size=32, num_workers=num_cpus(), shuffle=True) \n",
        "    valid_dl = DataLoader(valid_ds, batch_size=32, num_workers=num_cpus(), shuffle=False)\n",
        "    return train_dl, valid_dl\n",
        "\n",
        "\n",
        "train_dl, valid_dl = get_loaders()"
      ],
      "execution_count": 51,
      "outputs": []
    },
    {
      "cell_type": "markdown",
      "metadata": {
        "id": "w8gP2ClSYq2J"
      },
      "source": [
        "View the Datasets for Sanity Check -"
      ]
    },
    {
      "cell_type": "code",
      "metadata": {
        "colab": {
          "base_uri": "https://localhost:8080/",
          "height": 140
        },
        "id": "7ceVZHQ6YtWi",
        "outputId": "81570204-8da8-4fa5-b47b-1be23ee2514c"
      },
      "source": [
        "ims, lbls = next(iter(train_dl))\n",
        "ims, lbls = ims[:8], lbls[:8]\n",
        "\n",
        "grid = make_grid(ims, normalize=True).permute(1, 2, 0)\n",
        "fig = plt.figure(figsize=(13, 13))\n",
        "plt.imshow(grid) \n",
        "plt.title([encoder.inverse_transform([o]).item() for o in lbls.data.cpu().numpy()])\n",
        "plt.axis(\"off\");"
      ],
      "execution_count": 52,
      "outputs": [
        {
          "output_type": "display_data",
          "data": {
            "image/png": "[encoded data removed]",
            "text/plain": [
              "<Figure size 936x936 with 1 Axes>"
            ]
          },
          "metadata": {
            "tags": [],
            "needs_background": "light"
          }
        }
      ]
    },
    {
      "cell_type": "code",
      "metadata": {
        "id": "JxR9HS5ed_4m"
      },
      "source": [
        "del train_dl, valid_dl"
      ],
      "execution_count": 53,
      "outputs": []
    },
    {
      "cell_type": "markdown",
      "metadata": {
        "id": "Ka0ItH0LYuu1"
      },
      "source": [
        "### Baseline\n",
        "First I will let's start by making a good baseline Model and subsequently we will experiment by improving upon this model.\n",
        "\n",
        "Let's first create the building blocks that we will use building our network."
      ]
    },
    {
      "cell_type": "code",
      "metadata": {
        "id": "ZhlFONv-Y010"
      },
      "source": [
        "import math\n",
        "\n",
        "import torch.nn.functional as F\n",
        "from torch import nn, optim\n",
        "\n",
        "\n",
        "def get_same_padding(x: int, k: int, s: int, d: int):\n",
        "    \"\"\"\n",
        "    Calculate asymmetric TensorFlow-like 'SAME' padding for a convolution i.e., \n",
        "    if you use a stride of 1, the layer's outputs will have the same spatial dimensions as its inputs.\n",
        "    \n",
        "    \n",
        "    Source: https://github.com/rwightman/pytorch-image-models/blob/de9dff933a503e357e1d6a6cf157831f25cebb8a/timm/models/layers/padding.py#L12\n",
        "    \"\"\"\n",
        "    return max((math.ceil(x / s) - 1) * s + (k - 1) * d + 1 - x, 0)"
      ],
      "execution_count": 54,
      "outputs": []
    },
    {
      "cell_type": "code",
      "metadata": {
        "id": "9pQi76LYY2jp"
      },
      "source": [
        "class ConvBnDropBlock(nn.Sequential):\n",
        "    \"Create sequence of convolutional, Activation, `BatchNorm` & Drouput layers.\"\n",
        "    def __init__(self, in_chans, out_chans, kernel_size, stride=1, dilation=1, \n",
        "                 padding = \"same\", bias=True, input_sz: Optional = None, \n",
        "                 act_cls: Callable = nn.ReLU, p_drop=0.0, use_bn=True,):\n",
        "        \n",
        "        if padding == \"same\":\n",
        "            assert input_sz is not None, \"input_sz is needed for same padding\"\n",
        "        \n",
        "        layers = []\n",
        "        \n",
        "        if padding == \"same\":\n",
        "            padding = get_same_padding(input_sz, kernel_size, stride, dilation)\n",
        "        \n",
        "        conv_layer = nn.Conv2d(in_chans, out_chans, kernel_size, stride, \n",
        "                               dilation=dilation, padding=padding, bias=bias)\n",
        "        \n",
        "        if act_cls is not None:\n",
        "            act_layer = act_cls(inplace=True)\n",
        "        else:\n",
        "            act_layer = nn.Identity()\n",
        "        if use_bn:\n",
        "            norm_layer = nn.BatchNorm2d(out_chans)\n",
        "        else:\n",
        "            norm_layer = nn.Identity()\n",
        "           \n",
        "        layers += [conv_layer, act_layer, norm_layer]\n",
        "        \n",
        "        if p_drop > 0.0:\n",
        "            layers.append(nn.Dropout2d(p=p_drop))\n",
        "            \n",
        "        super(ConvBnDropBlock, self).__init__(*layers)"
      ],
      "execution_count": 76,
      "outputs": []
    },
    {
      "cell_type": "markdown",
      "metadata": {
        "id": "Pvx14zHhY5LT"
      },
      "source": [
        "For training i will be using `pytorch-lightning`, So let's first convert the whole pytorch model in Lightning format. So let's build our model in `pytorch-lightning` format."
      ]
    },
    {
      "cell_type": "code",
      "metadata": {
        "colab": {
          "base_uri": "https://localhost:8080/"
        },
        "id": "4HPiGTulY7ma",
        "outputId": "169aa050-799b-4136-f963-4a450b5b834a"
      },
      "source": [
        "from collections import OrderedDict\n",
        "\n",
        "import pytorch_lightning as pl\n",
        "from pytorch_lightning.callbacks import EarlyStopping, ModelCheckpoint\n",
        "from torchmetrics import Accuracy\n",
        "\n",
        "from third_party import NotebookProgressCallback\n",
        "\n",
        "pl.seed_everything(42)"
      ],
      "execution_count": 56,
      "outputs": [
        {
          "output_type": "stream",
          "text": [
            "Global seed set to 42\n"
          ],
          "name": "stderr"
        },
        {
          "output_type": "execute_result",
          "data": {
            "text/plain": [
              "42"
            ]
          },
          "metadata": {
            "tags": []
          },
          "execution_count": 56
        }
      ]
    },
    {
      "cell_type": "markdown",
      "metadata": {
        "id": "W-57b8eZY9Pw"
      },
      "source": [
        "For evaluating the model initially I will use the `Accuracy` metric and for loss function i will use the standart `CrossEntropy Loss` from PyTorch.\n",
        "\n",
        "The baseline model used in this task is inpired from : https://www.kaggle.com/cdeotte/how-to-choose-cnn-architecture-mnist"
      ]
    },
    {
      "cell_type": "code",
      "metadata": {
        "id": "cwB7Gpy5ZAeX"
      },
      "source": [
        "class BaseLineCnn(pl.LightningModule):\n",
        "    def __init__(self, input_sz: int, num_classes: int, lr: float):\n",
        "        super().__init__()\n",
        "        self.save_hyperparameters()\n",
        "        \n",
        "        self.net = self.build_network()\n",
        "        \n",
        "        self.loss_fn = nn.CrossEntropyLoss(reduction=\"mean\")\n",
        "        self.metric = Accuracy()\n",
        "        self.tst_metric = Accuracy()\n",
        "        \n",
        "    def build_network(self):\n",
        "        conv1 = ConvBnDropBlock(input_sz=self.hparams.input_sz, in_chans=3, out_chans=32, \n",
        "                                kernel_size=3, p_drop=0, padding=\"same\", stride=1, act_cls=nn.ReLU)        \n",
        "        \n",
        "        conv2 = ConvBnDropBlock(input_sz=self.hparams.input_sz, in_chans=32, out_chans=32, \n",
        "                                kernel_size=3, p_drop=0, padding=\"same\", stride=1, act_cls=nn.ReLU)        \n",
        "        \n",
        "        conv3 = ConvBnDropBlock(input_sz=self.hparams.input_sz, in_chans=32, out_chans=32, \n",
        "                                kernel_size=5, p_drop=0.4, padding=\"same\", stride=2, act_cls=nn.ReLU)\n",
        "        \n",
        "        block1 = nn.Sequential(conv1, conv2, conv3)\n",
        "        \n",
        "        conv4 = ConvBnDropBlock(input_sz=self.hparams.input_sz, in_chans=32, out_chans=64, \n",
        "                                kernel_size=3, p_drop=0, padding=\"same\", stride=1, act_cls=nn.ReLU)        \n",
        "        \n",
        "        conv5 = ConvBnDropBlock(input_sz=self.hparams.input_sz, in_chans=64, out_chans=64, \n",
        "                                kernel_size=3, p_drop=0, padding=\"same\", stride=1, act_cls=nn.ReLU)       \n",
        "        \n",
        "        conv6 = ConvBnDropBlock(input_sz=self.hparams.input_sz, in_chans=64, out_chans=64, \n",
        "                                kernel_size=5, p_drop=0.4, padding=\"same\", stride=2, act_cls=nn.ReLU)\n",
        "        \n",
        "        block2 = nn.Sequential(conv4, conv5, conv6)\n",
        "        \n",
        "        global_pool  = nn.Sequential(OrderedDict(pool_layer=nn.AdaptiveAvgPool2d(1), flatten=nn.Flatten()))\n",
        "        \n",
        "        fc1 = nn.Sequential(nn.Linear(64, 128), nn.ReLU(inplace=True), nn.BatchNorm1d(128), nn.Dropout(0.4))\n",
        "        fc2 = nn.Linear(in_features=128, out_features=self.hparams.num_classes)\n",
        "        \n",
        "        ls = OrderedDict(block1=block1, block2=block2, global_pool=global_pool, fc1=fc1, fc2=fc2)\n",
        "        return nn.Sequential(ls)\n",
        "        \n",
        "    def forward(self, xb):\n",
        "        return self.net(xb)\n",
        "    \n",
        "    def training_step(self, batch, batch_idx, *args, **kwargs):\n",
        "        images, labels = batch\n",
        "        # 1. Forward pass:\n",
        "        logits = self.forward(images)\n",
        "        # 2. Compute loss:\n",
        "        loss = self.loss_fn(logits, labels)\n",
        "        \n",
        "        self.log_dict(dict(train_loss=loss))\n",
        "        return loss\n",
        "    \n",
        "    def validation_step(self, batch, batch_idx, *args, **kwargs):\n",
        "        images, labels = batch\n",
        "        logits = self.forward(images)\n",
        "        # 1. Forward pass:\n",
        "        logits = self.forward(images)\n",
        "        # 2. Compute loss:\n",
        "        loss = self.loss_fn(logits, labels)\n",
        "        # 3. Compute accuracy:\n",
        "        acc = self.metric(F.softmax(logits), labels)\n",
        "        self.log_dict(dict(val_loss=loss, val_acc=acc), on_epoch=True)\n",
        "        \n",
        "    def test_step(self, batch, batch_idx, *args, **kwargs):\n",
        "        images, labels = batch\n",
        "        logits = self.forward(images)\n",
        "        # 1. Forward pass:\n",
        "        logits = self.forward(images)\n",
        "        # 2. Compute accuracy:\n",
        "        acc = self.tst_metric(F.softmax(logits), labels)\n",
        "        self.log_dict(dict(test_acc=acc))\n",
        "        \n",
        "    def configure_optimizers(self):\n",
        "        parameters = list(self.parameters())\n",
        "        trainable_parameters = list(filter(lambda p: p.requires_grad, parameters))\n",
        "        opt_func = optim.Adam(trainable_parameters, lr=self.hparams.lr)\n",
        "        return [opt_func]"
      ],
      "execution_count": 58,
      "outputs": []
    },
    {
      "cell_type": "code",
      "metadata": {
        "id": "ZZrTprcnZKYp"
      },
      "source": [
        "# make a directory to store the checkpoints\n",
        "# os.makedirs(\"Checkpoints/\", exist_ok=True)"
      ],
      "execution_count": 59,
      "outputs": []
    },
    {
      "cell_type": "markdown",
      "metadata": {
        "id": "IdNxn-amZEhK"
      },
      "source": [
        "Train the model initially for 20 epochs and view preformance -"
      ]
    },
    {
      "cell_type": "code",
      "metadata": {
        "colab": {
          "base_uri": "https://localhost:8080/",
          "height": 780
        },
        "id": "_2OfLQXxZHcQ",
        "outputId": "412864be-20f4-4e99-c6c3-a60cfe87cf88"
      },
      "source": [
        "model = BaseLineCnn(input_sz=IMG_SIZE, num_classes=len(encoder.classes_), lr=3e-03)\n",
        "\n",
        "cbs = [\n",
        "    ModelCheckpoint(monitor=\"val_loss\", filename=\"BaseLineCnn\", dirpath=\"Checkpoints/\"), \n",
        "    NotebookProgressCallback()\n",
        "]\n",
        "\n",
        "trainer = pl.Trainer(max_epochs=20, callbacks=cbs, weights_summary=None, gpus=1, precision=16)\n",
        "\n",
        "\n",
        "train_dl, valid_dl = get_loaders()\n",
        "trainer.fit(model, train_dataloader=train_dl, val_dataloaders=valid_dl)"
      ],
      "execution_count": 60,
      "outputs": [
        {
          "output_type": "stream",
          "text": [
            "GPU available: True, used: True\n",
            "TPU available: False, using: 0 TPU cores\n",
            "Using native 16bit precision.\n",
            "LOCAL_RANK: 0 - CUDA_VISIBLE_DEVICES: [0]\n"
          ],
          "name": "stderr"
        },
        {
          "output_type": "display_data",
          "data": {
            "text/html": [
              ""
            ],
            "text/plain": [
              "<IPython.core.display.HTML object>"
            ]
          },
          "metadata": {
            "tags": []
          }
        },
        {
          "output_type": "display_data",
          "data": {
            "text/html": [
              "\n",
              "    <div>\n",
              "        <style>\n",
              "            progress {\n",
              "                border: none;\n",
              "                background-size: auto;\n",
              "            }\n",
              "        </style>\n",
              "      Training\n",
              "      <progress value='1240' max='1240' style='width:300px; height:20px; vertical-align: middle;'></progress>\n",
              "      [1240/1240 09:06, Epoch 19 {'loss': '1.6', 'v_num': 1}]\n",
              "    </div>\n",
              "    <table border=\"1\" class=\"dataframe\">\n",
              "  <thead>\n",
              "    <tr style=\"text-align: left;\">\n",
              "      <th>Epoch</th>\n",
              "      <th>Val Loss</th>\n",
              "      <th>Val Acc</th>\n",
              "      <th>Train Loss</th>\n",
              "      <th>Time</th>\n",
              "      <th>Samples /s</th>\n",
              "    </tr>\n",
              "  </thead>\n",
              "  <tbody>\n",
              "    <tr>\n",
              "      <td>0</td>\n",
              "      <td>4.062571</td>\n",
              "      <td>0.044355</td>\n",
              "      <td>4.063286</td>\n",
              "      <td>5.499900</td>\n",
              "      <td>14.182200</td>\n",
              "    </tr>\n",
              "    <tr>\n",
              "      <td>1</td>\n",
              "      <td>4.004248</td>\n",
              "      <td>0.040323</td>\n",
              "      <td>4.215879</td>\n",
              "      <td>5.581500</td>\n",
              "      <td>13.974900</td>\n",
              "    </tr>\n",
              "    <tr>\n",
              "      <td>2</td>\n",
              "      <td>3.805567</td>\n",
              "      <td>0.068548</td>\n",
              "      <td>4.175481</td>\n",
              "      <td>5.504000</td>\n",
              "      <td>14.171500</td>\n",
              "    </tr>\n",
              "    <tr>\n",
              "      <td>3</td>\n",
              "      <td>3.733530</td>\n",
              "      <td>0.038306</td>\n",
              "      <td>3.712197</td>\n",
              "      <td>5.510000</td>\n",
              "      <td>14.156100</td>\n",
              "    </tr>\n",
              "    <tr>\n",
              "      <td>4</td>\n",
              "      <td>3.627051</td>\n",
              "      <td>0.044355</td>\n",
              "      <td>3.952534</td>\n",
              "      <td>5.451200</td>\n",
              "      <td>14.308700</td>\n",
              "    </tr>\n",
              "    <tr>\n",
              "      <td>5</td>\n",
              "      <td>14.239868</td>\n",
              "      <td>0.016129</td>\n",
              "      <td>3.709525</td>\n",
              "      <td>5.552200</td>\n",
              "      <td>14.048600</td>\n",
              "    </tr>\n",
              "    <tr>\n",
              "      <td>6</td>\n",
              "      <td>4.551662</td>\n",
              "      <td>0.044355</td>\n",
              "      <td>3.206885</td>\n",
              "      <td>5.543800</td>\n",
              "      <td>14.069800</td>\n",
              "    </tr>\n",
              "    <tr>\n",
              "      <td>7</td>\n",
              "      <td>3.438691</td>\n",
              "      <td>0.100806</td>\n",
              "      <td>3.338906</td>\n",
              "      <td>5.601400</td>\n",
              "      <td>13.925100</td>\n",
              "    </tr>\n",
              "    <tr>\n",
              "      <td>8</td>\n",
              "      <td>3.161918</td>\n",
              "      <td>0.118952</td>\n",
              "      <td>3.185476</td>\n",
              "      <td>5.477900</td>\n",
              "      <td>14.239100</td>\n",
              "    </tr>\n",
              "    <tr>\n",
              "      <td>9</td>\n",
              "      <td>16.599363</td>\n",
              "      <td>0.020161</td>\n",
              "      <td>2.863398</td>\n",
              "      <td>5.490200</td>\n",
              "      <td>14.207200</td>\n",
              "    </tr>\n",
              "    <tr>\n",
              "      <td>10</td>\n",
              "      <td>2.786013</td>\n",
              "      <td>0.225806</td>\n",
              "      <td>2.781128</td>\n",
              "      <td>5.602100</td>\n",
              "      <td>13.923300</td>\n",
              "    </tr>\n",
              "    <tr>\n",
              "      <td>11</td>\n",
              "      <td>3.501041</td>\n",
              "      <td>0.096774</td>\n",
              "      <td>2.641162</td>\n",
              "      <td>5.453200</td>\n",
              "      <td>14.303400</td>\n",
              "    </tr>\n",
              "    <tr>\n",
              "      <td>12</td>\n",
              "      <td>2.463316</td>\n",
              "      <td>0.280242</td>\n",
              "      <td>2.468852</td>\n",
              "      <td>5.525300</td>\n",
              "      <td>14.116800</td>\n",
              "    </tr>\n",
              "    <tr>\n",
              "      <td>13</td>\n",
              "      <td>16.034861</td>\n",
              "      <td>0.032258</td>\n",
              "      <td>2.170897</td>\n",
              "      <td>5.504400</td>\n",
              "      <td>14.170600</td>\n",
              "    </tr>\n",
              "    <tr>\n",
              "      <td>14</td>\n",
              "      <td>3.353386</td>\n",
              "      <td>0.183468</td>\n",
              "      <td>2.234234</td>\n",
              "      <td>5.524500</td>\n",
              "      <td>14.118900</td>\n",
              "    </tr>\n",
              "    <tr>\n",
              "      <td>15</td>\n",
              "      <td>3.073647</td>\n",
              "      <td>0.213710</td>\n",
              "      <td>2.153882</td>\n",
              "      <td>5.525900</td>\n",
              "      <td>14.115300</td>\n",
              "    </tr>\n",
              "    <tr>\n",
              "      <td>16</td>\n",
              "      <td>1.790387</td>\n",
              "      <td>0.502016</td>\n",
              "      <td>1.799040</td>\n",
              "      <td>5.621100</td>\n",
              "      <td>13.876400</td>\n",
              "    </tr>\n",
              "    <tr>\n",
              "      <td>17</td>\n",
              "      <td>4.029422</td>\n",
              "      <td>0.141129</td>\n",
              "      <td>1.946094</td>\n",
              "      <td>5.518500</td>\n",
              "      <td>14.134300</td>\n",
              "    </tr>\n",
              "    <tr>\n",
              "      <td>18</td>\n",
              "      <td>1.265779</td>\n",
              "      <td>0.655242</td>\n",
              "      <td>1.805717</td>\n",
              "      <td>5.562000</td>\n",
              "      <td>14.023800</td>\n",
              "    </tr>\n",
              "    <tr>\n",
              "      <td>19</td>\n",
              "      <td>1.281864</td>\n",
              "      <td>0.612903</td>\n",
              "      <td>1.663883</td>\n",
              "      <td>5.522300</td>\n",
              "      <td>14.124600</td>\n",
              "    </tr>\n",
              "  </tbody>\n",
              "</table><p>"
            ],
            "text/plain": [
              "<IPython.core.display.HTML object>"
            ]
          },
          "metadata": {
            "tags": []
          }
        },
        {
          "output_type": "execute_result",
          "data": {
            "text/plain": [
              "1"
            ]
          },
          "metadata": {
            "tags": []
          },
          "execution_count": 60
        }
      ]
    },
    {
      "cell_type": "markdown",
      "metadata": {
        "id": "n-kQJzofZyoz"
      },
      "source": [
        "Let's measure the final accuracy of the Model from the above training. This metric is calculated using the model that had the lowest validation loss in the training process."
      ]
    },
    {
      "cell_type": "code",
      "metadata": {
        "colab": {
          "base_uri": "https://localhost:8080/",
          "height": 68
        },
        "id": "IRAlFbD1ZeYh",
        "outputId": "02d073cc-ba2a-458c-ff43-c15c3edddd54"
      },
      "source": [
        "tst_res = trainer.test(ckpt_path=\"best\", test_dataloaders=[train_dl, valid_dl], verbose=False)\n",
        "trn_acc, val_acc = tst_res[0][\"test_acc/dataloader_idx_0\"], tst_res[1][\"test_acc/dataloader_idx_1\"]\n",
        "print(\"Final Training Accuracy: \", round(trn_acc, 3))\n",
        "print(\"Final Validation Accuracy: \", round(val_acc, 3))"
      ],
      "execution_count": 61,
      "outputs": [
        {
          "output_type": "stream",
          "text": [
            "LOCAL_RANK: 0 - CUDA_VISIBLE_DEVICES: [0]\n"
          ],
          "name": "stderr"
        },
        {
          "output_type": "display_data",
          "data": {
            "text/html": [
              ""
            ],
            "text/plain": [
              "<IPython.core.display.HTML object>"
            ]
          },
          "metadata": {
            "tags": []
          }
        },
        {
          "output_type": "stream",
          "text": [
            "Final Training Accuracy:  0.67\n",
            "Final Validation Accuracy:  0.655\n"
          ],
          "name": "stdout"
        }
      ]
    },
    {
      "cell_type": "markdown",
      "metadata": {
        "id": "10lezuPrafIg"
      },
      "source": [
        "> Our goal now is the improve this baseline model. "
      ]
    },
    {
      "cell_type": "markdown",
      "metadata": {
        "id": "BA4Gc3Q7ao2p"
      },
      "source": [
        "Let's remove the unused variables from the GPU i.e., free GPU memory -"
      ]
    },
    {
      "cell_type": "code",
      "metadata": {
        "id": "wqlNrojraX5-"
      },
      "source": [
        "import gc\n",
        "\n",
        "try:\n",
        "    del model, trainer\n",
        "except: \n",
        "    pass\n",
        "try:\n",
        "    del train_dl, valid_dl\n",
        "except: \n",
        "    pass\n",
        "gc.collect()\n",
        "torch.cuda.empty_cache()"
      ],
      "execution_count": 75,
      "outputs": []
    },
    {
      "cell_type": "markdown",
      "metadata": {
        "id": "Bms8tB0La3Z4"
      },
      "source": [
        "### Improving the Baseline\n",
        "> This section we will explore various techniques which will hopefully help us in improving our baseline model"
      ]
    },
    {
      "cell_type": "markdown",
      "metadata": {
        "id": "vH0VC7qNbD1S"
      },
      "source": [
        "#### Experiment 01\n",
        "> In this experiment we will explore the preformance of our model by introducing `residual connection`s. It was introduced in 2015 by Kaiming He et al. in the article \"[Deep Residual Learning for Image Recognition](https://arxiv.org/pdf/1512.03385.pdf)\". Residual Connections are the main building blocks of the ResNet family of networks, which are one of the most popular CNN Architectures.\n",
        "\n",
        "\n",
        "\n",
        "The code cell below creates a simple Residual block -"
      ]
    },
    {
      "cell_type": "code",
      "metadata": {
        "id": "IGhgvOpXdjjG"
      },
      "source": [
        "class ResidualBlock(nn.Module):\n",
        "    \"Creates a simple Residual Block\"\n",
        "    def __init__(self, in_chans: int, out_chans: int, \n",
        "                 kernel_size: int, stride: int = 1, act_cls: Callable = nn.ReLU):\n",
        "        \n",
        "        super(ResidualBlock, self).__init__()\n",
        "        self.idconv = None\n",
        "        \n",
        "        self.block1 = ConvBnDropBlock(input_sz=None, in_chans=in_chans, out_chans=out_chans, \n",
        "                                      kernel_size=kernel_size, stride=stride, padding=1, \n",
        "                                      use_bn=True, act_cls=act_cls, p_drop=0.0, bias=False)\n",
        "        \n",
        "        self.block2 = ConvBnDropBlock(input_sz=None, in_chans=out_chans, out_chans=out_chans, \n",
        "                                      kernel_size=kernel_size, stride=1, padding=1, use_bn=True,\n",
        "                                      act_cls=None, p_drop=0.0, bias=False)\n",
        "        \n",
        "        self.act_cls = act_cls(inplace=True)\n",
        "        \n",
        "        if in_chans != out_chans or stride != 1:\n",
        "            self.idconv = ConvBnDropBlock(input_sz=None, in_chans=in_chans, out_chans=out_chans, \n",
        "                                          kernel_size=1, stride=stride, padding=0, \n",
        "                                          use_bn=True, act_cls=None, p_drop=0.0, bias=False)\n",
        "        \n",
        "        for m in self.modules():\n",
        "            if isinstance(m, nn.Conv2d):\n",
        "                nn.init.kaiming_normal_(m.weight, mode='fan_out', nonlinearity='relu')\n",
        "            elif isinstance(m, nn.BatchNorm2d):\n",
        "                nn.init.constant_(m.weight, 1)\n",
        "                nn.init.constant_(m.bias, 0)\n",
        "         \n",
        "        # Zero-initialize the last BN in each residual branch,\n",
        "        # so that the residual branch starts with zeros, and each residual block behaves like an identity.\n",
        "        # This improves the model by 0.2~0.3% according to https://arxiv.org/abs/1706.02677\n",
        "        for m in self.block2.modules():\n",
        "            if isinstance(m, nn.BatchNorm2d):\n",
        "                nn.init.constant_(m.weight, 0)\n",
        "                    \n",
        "    def forward(self, x):\n",
        "        identity = x\n",
        "        out = self.block1(x)\n",
        "        out = self.block2(out)\n",
        "        \n",
        "        if self.idconv is not None:\n",
        "            identity = self.idconv(x)\n",
        "        \n",
        "        out += identity\n",
        "        return self.act_cls(out)"
      ],
      "execution_count": 77,
      "outputs": []
    },
    {
      "cell_type": "markdown",
      "metadata": {
        "id": "9YmH2dP_jcg9"
      },
      "source": [
        "Why use `idconv` block ?\n",
        ">The issue is that with a stride of, say, 2 on one of the convolutions, the grid size of the output activations will be half the size on each axis of the input. So then we can't add that back to x in forward because x and the output activations have different dimensions. The same basic issue occurs if `in_chans`!=`out_chans`: the shapes of the input and output connections won't allow us to add them together. So `idconv` works as a identity map that matches the dimenstions of x to the ouput of `self.block2(self.block1(x))`. `idconv` increases the `channels` out the x and downsamples it with stride if required.\n",
        "\n",
        "\n",
        "\n",
        "We can now proceed towards modifying our `BaseLineCnn`. Let's add some skip connections into this network. We remove modify the 1st conv block of the model to resemble the layer in a typical `ResNet` Model, i.e, a conv layer of `output_channels=64, kernel_size=7, stride=2, \"same\" padding` followed by a `bnorm`, `activation` and a `MaxPooling` layer. `2nd`, `3rd`, `4th` conv blocks become the residual blocks of the model and rest conv blocks are dropped. The Classifier part of the model remains same."
      ]
    },
    {
      "cell_type": "code",
      "metadata": {
        "id": "-N0geEarjcry"
      },
      "source": [
        "class ResidualCnn(BaseLineCnn):\n",
        "    def __init__(self, input_sz: int, num_classes: int, lr: float):\n",
        "        kwds = dict(input_sz=input_sz, num_classes=num_classes, lr=lr)\n",
        "        super(ResidualCnn, self).__init__(**kwds)\n",
        "        \n",
        "    def build_network(self):\n",
        "        conv1 = ConvBnDropBlock(input_sz=self.hparams.input_sz, in_chans=3, out_chans=64, \n",
        "                                kernel_size=7, p_drop=0, padding=\"same\", stride=2, act_cls=nn.ReLU, \n",
        "                                bias=False, use_bn=True)\n",
        "        \n",
        "        pool  = nn.MaxPool2d(kernel_size=3, stride=2, padding=1)\n",
        "        stem  = nn.Sequential(conv1, pool)\n",
        "        \n",
        "        resblock1 = ResidualBlock(in_chans=64, out_chans=64,  stride=1, kernel_size=3, act_cls=nn.ReLU)\n",
        "        resblock2 = ResidualBlock(in_chans=64, out_chans=128, stride=2, kernel_size=3, act_cls=nn.ReLU)\n",
        "        resblock3 = ResidualBlock(in_chans=128,out_chans=256, stride=2, kernel_size=3, act_cls=nn.ReLU)\n",
        "        \n",
        "        global_pool = nn.Sequential(OrderedDict(pool_layer=nn.AdaptiveAvgPool2d(1), flatten=nn.Flatten()))\n",
        "        \n",
        "        fc1 = nn.Sequential(nn.Linear(256, 512), nn.ReLU(inplace=True), nn.BatchNorm1d(512), nn.Dropout(0.25))\n",
        "        fc2 = nn.Linear(in_features=512, out_features=self.hparams.num_classes)\n",
        "        \n",
        "        ls = OrderedDict(conv_stem=stem, block1=resblock1, block2=resblock2, block3=resblock3, \n",
        "                         global_pool=global_pool, fc1=fc1, fc2=fc2)\n",
        "        return nn.Sequential(ls)"
      ],
      "execution_count": 100,
      "outputs": []
    },
    {
      "cell_type": "code",
      "metadata": {
        "colab": {
          "base_uri": "https://localhost:8080/",
          "height": 797
        },
        "id": "LuvF6ax3jc1h",
        "outputId": "1b02f9f6-6533-467d-b2ae-a9848c142e21"
      },
      "source": [
        "%%time\n",
        "\n",
        "model = ResidualCnn(input_sz=IMG_SIZE, num_classes=len(encoder.classes_), lr=3e-03)\n",
        "\n",
        "cbs = [\n",
        "    ModelCheckpoint(monitor=\"val_loss\", filename=\"ResidualCnn\", dirpath=\"Checkpoints/\"), \n",
        "    NotebookProgressCallback()\n",
        "]\n",
        "\n",
        "trainer = pl.Trainer(max_epochs=20, callbacks=cbs, weights_summary=None, precision=16, gpus=1)\n",
        "\n",
        "train_dl, valid_dl = get_loaders()\n",
        "trainer.fit(model, train_dataloader=train_dl, val_dataloaders=valid_dl)"
      ],
      "execution_count": 101,
      "outputs": [
        {
          "output_type": "stream",
          "text": [
            "GPU available: True, used: True\n",
            "TPU available: False, using: 0 TPU cores\n",
            "Using native 16bit precision.\n",
            "LOCAL_RANK: 0 - CUDA_VISIBLE_DEVICES: [0]\n"
          ],
          "name": "stderr"
        },
        {
          "output_type": "display_data",
          "data": {
            "text/html": [
              ""
            ],
            "text/plain": [
              "<IPython.core.display.HTML object>"
            ]
          },
          "metadata": {
            "tags": []
          }
        },
        {
          "output_type": "display_data",
          "data": {
            "text/html": [
              "\n",
              "    <div>\n",
              "        <style>\n",
              "            progress {\n",
              "                border: none;\n",
              "                background-size: auto;\n",
              "            }\n",
              "        </style>\n",
              "      Training\n",
              "      <progress value='1240' max='1240' style='width:300px; height:20px; vertical-align: middle;'></progress>\n",
              "      [1240/1240 09:07, Epoch 19 {'loss': '0.0954', 'v_num': 8}]\n",
              "    </div>\n",
              "    <table border=\"1\" class=\"dataframe\">\n",
              "  <thead>\n",
              "    <tr style=\"text-align: left;\">\n",
              "      <th>Epoch</th>\n",
              "      <th>Val Loss</th>\n",
              "      <th>Val Acc</th>\n",
              "      <th>Train Loss</th>\n",
              "      <th>Time</th>\n",
              "      <th>Samples /s</th>\n",
              "    </tr>\n",
              "  </thead>\n",
              "  <tbody>\n",
              "    <tr>\n",
              "      <td>0</td>\n",
              "      <td>3.743782</td>\n",
              "      <td>0.122984</td>\n",
              "      <td>2.823097</td>\n",
              "      <td>5.527700</td>\n",
              "      <td>14.110700</td>\n",
              "    </tr>\n",
              "    <tr>\n",
              "      <td>1</td>\n",
              "      <td>5.477748</td>\n",
              "      <td>0.149194</td>\n",
              "      <td>1.561758</td>\n",
              "      <td>5.525100</td>\n",
              "      <td>14.117300</td>\n",
              "    </tr>\n",
              "    <tr>\n",
              "      <td>2</td>\n",
              "      <td>2.254103</td>\n",
              "      <td>0.427419</td>\n",
              "      <td>0.864432</td>\n",
              "      <td>5.499000</td>\n",
              "      <td>14.184500</td>\n",
              "    </tr>\n",
              "    <tr>\n",
              "      <td>3</td>\n",
              "      <td>3.586276</td>\n",
              "      <td>0.258065</td>\n",
              "      <td>0.720420</td>\n",
              "      <td>5.534100</td>\n",
              "      <td>14.094500</td>\n",
              "    </tr>\n",
              "    <tr>\n",
              "      <td>4</td>\n",
              "      <td>1.387870</td>\n",
              "      <td>0.596774</td>\n",
              "      <td>0.493872</td>\n",
              "      <td>5.580900</td>\n",
              "      <td>13.976300</td>\n",
              "    </tr>\n",
              "    <tr>\n",
              "      <td>5</td>\n",
              "      <td>8.073009</td>\n",
              "      <td>0.090726</td>\n",
              "      <td>0.344798</td>\n",
              "      <td>5.498800</td>\n",
              "      <td>14.184800</td>\n",
              "    </tr>\n",
              "    <tr>\n",
              "      <td>6</td>\n",
              "      <td>1.542016</td>\n",
              "      <td>0.610887</td>\n",
              "      <td>0.220736</td>\n",
              "      <td>5.521100</td>\n",
              "      <td>14.127600</td>\n",
              "    </tr>\n",
              "    <tr>\n",
              "      <td>7</td>\n",
              "      <td>3.115057</td>\n",
              "      <td>0.387097</td>\n",
              "      <td>0.199561</td>\n",
              "      <td>5.514000</td>\n",
              "      <td>14.145800</td>\n",
              "    </tr>\n",
              "    <tr>\n",
              "      <td>8</td>\n",
              "      <td>3.090966</td>\n",
              "      <td>0.381048</td>\n",
              "      <td>0.301194</td>\n",
              "      <td>5.525200</td>\n",
              "      <td>14.117100</td>\n",
              "    </tr>\n",
              "    <tr>\n",
              "      <td>9</td>\n",
              "      <td>2.303955</td>\n",
              "      <td>0.540323</td>\n",
              "      <td>0.098258</td>\n",
              "      <td>5.531100</td>\n",
              "      <td>14.102100</td>\n",
              "    </tr>\n",
              "    <tr>\n",
              "      <td>10</td>\n",
              "      <td>1.486446</td>\n",
              "      <td>0.635081</td>\n",
              "      <td>0.223331</td>\n",
              "      <td>5.584800</td>\n",
              "      <td>13.966600</td>\n",
              "    </tr>\n",
              "    <tr>\n",
              "      <td>11</td>\n",
              "      <td>1.186268</td>\n",
              "      <td>0.677419</td>\n",
              "      <td>0.182353</td>\n",
              "      <td>5.541600</td>\n",
              "      <td>14.075400</td>\n",
              "    </tr>\n",
              "    <tr>\n",
              "      <td>12</td>\n",
              "      <td>1.108944</td>\n",
              "      <td>0.723790</td>\n",
              "      <td>0.029200</td>\n",
              "      <td>5.533900</td>\n",
              "      <td>14.094900</td>\n",
              "    </tr>\n",
              "    <tr>\n",
              "      <td>13</td>\n",
              "      <td>2.675827</td>\n",
              "      <td>0.467742</td>\n",
              "      <td>0.068277</td>\n",
              "      <td>5.565300</td>\n",
              "      <td>14.015300</td>\n",
              "    </tr>\n",
              "    <tr>\n",
              "      <td>14</td>\n",
              "      <td>4.608390</td>\n",
              "      <td>0.348790</td>\n",
              "      <td>0.213575</td>\n",
              "      <td>5.565800</td>\n",
              "      <td>14.014100</td>\n",
              "    </tr>\n",
              "    <tr>\n",
              "      <td>15</td>\n",
              "      <td>1.283326</td>\n",
              "      <td>0.683468</td>\n",
              "      <td>0.273848</td>\n",
              "      <td>5.570200</td>\n",
              "      <td>14.003100</td>\n",
              "    </tr>\n",
              "    <tr>\n",
              "      <td>16</td>\n",
              "      <td>1.597961</td>\n",
              "      <td>0.685484</td>\n",
              "      <td>0.130890</td>\n",
              "      <td>5.607700</td>\n",
              "      <td>13.909400</td>\n",
              "    </tr>\n",
              "    <tr>\n",
              "      <td>17</td>\n",
              "      <td>4.968291</td>\n",
              "      <td>0.330645</td>\n",
              "      <td>0.054525</td>\n",
              "      <td>5.494100</td>\n",
              "      <td>14.196900</td>\n",
              "    </tr>\n",
              "    <tr>\n",
              "      <td>18</td>\n",
              "      <td>1.248997</td>\n",
              "      <td>0.717742</td>\n",
              "      <td>0.141332</td>\n",
              "      <td>5.528700</td>\n",
              "      <td>14.108200</td>\n",
              "    </tr>\n",
              "    <tr>\n",
              "      <td>19</td>\n",
              "      <td>1.474730</td>\n",
              "      <td>0.675403</td>\n",
              "      <td>0.169140</td>\n",
              "      <td>5.566400</td>\n",
              "      <td>14.012500</td>\n",
              "    </tr>\n",
              "  </tbody>\n",
              "</table><p>"
            ],
            "text/plain": [
              "<IPython.core.display.HTML object>"
            ]
          },
          "metadata": {
            "tags": []
          }
        },
        {
          "output_type": "stream",
          "text": [
            "CPU times: user 32 s, sys: 6.89 s, total: 38.9 s\n",
            "Wall time: 9min 9s\n"
          ],
          "name": "stdout"
        }
      ]
    },
    {
      "cell_type": "markdown",
      "metadata": {
        "id": "jM4aFv7Gjc-e"
      },
      "source": [
        "Let's check out the final accuracy of the best model on the validation dataset -"
      ]
    },
    {
      "cell_type": "code",
      "metadata": {
        "colab": {
          "base_uri": "https://localhost:8080/",
          "height": 68
        },
        "id": "bOiwC7NxmAwC",
        "outputId": "2711f55f-ddf9-4d1d-fce0-f895a6f43bf5"
      },
      "source": [
        "tst_res = trainer.test(ckpt_path=\"best\", test_dataloaders=[train_dl, valid_dl], verbose=False)\n",
        "trn_acc, val_acc = tst_res[0][\"test_acc/dataloader_idx_0\"], tst_res[1][\"test_acc/dataloader_idx_1\"]\n",
        "print(\"Final Training Accuracy: \", round(trn_acc, 3))\n",
        "print(\"Final Validation Accuracy: \", round(val_acc, 3))"
      ],
      "execution_count": 102,
      "outputs": [
        {
          "output_type": "stream",
          "text": [
            "LOCAL_RANK: 0 - CUDA_VISIBLE_DEVICES: [0]\n"
          ],
          "name": "stderr"
        },
        {
          "output_type": "display_data",
          "data": {
            "text/html": [
              ""
            ],
            "text/plain": [
              "<IPython.core.display.HTML object>"
            ]
          },
          "metadata": {
            "tags": []
          }
        },
        {
          "output_type": "stream",
          "text": [
            "Final Training Accuracy:  0.974\n",
            "Final Validation Accuracy:  0.724\n"
          ],
          "name": "stdout"
        }
      ]
    },
    {
      "cell_type": "code",
      "metadata": {
        "id": "Dcw2YCZullQu"
      },
      "source": [
        "try:\n",
        "    del model, trainer\n",
        "except: \n",
        "    pass\n",
        "try:\n",
        "    del train_dl, valid_dl\n",
        "except: \n",
        "    pass\n",
        "gc.collect()\n",
        "torch.cuda.empty_cache()"
      ],
      "execution_count": 103,
      "outputs": []
    },
    {
      "cell_type": "markdown",
      "metadata": {
        "id": "9hTWjj87llUK"
      },
      "source": [
        "> Using `Residual Connections` have truly increased the performance of the Baseline Model. Now we're making good progress! Let's explore some more.\n",
        "\n",
        "\n",
        "> Note: The model is indeed overfitting on the training data, but we will take care of this in a later part. For now we will focus on increasing the accuracy of the model."
      ]
    },
    {
      "cell_type": "markdown",
      "metadata": {
        "id": "eFNrOLQ2nRgF"
      },
      "source": [
        "#### Experiment 02\n",
        "> In this part I will mainly try to explore different variant of `ResNet`s called `ResNet-D` proposed by Tong He in 2014 in the article \"[Bag of Tricks for Image Classification with Convolutional Neural Networks](https://arxiv.org/abs/1812.01187)\n",
        "\". By using a tweaked ResNet-50 architecture and Mixup they achieved 94.6% top-5 accuracy on ImageNet, in comparison to 92.2% with a regular ResNet-50 without Mixup. This result is better than that achieved by regular ResNet models that are twice as deep (and twice as slow, and much more likely to overfit). These tweaked `Resnet` variants was ultimately popularized Jeremy Howard of Fast.ai and are called as `xResNet`'s."
      ]
    },
    {
      "cell_type": "markdown",
      "metadata": {
        "id": "0BPqJNZRnT9K"
      },
      "source": [
        "This experiment will mainly explore the model preformace we replace the Residual blocks with xResidual Blocks.\n",
        "\n",
        "First, let us explore the architecture of `ResNet-D` proposed in the above named article. To obtain the `xResNet` architecture we have to apply three different tweaks in the `ResNet` architecture namely `ResNet-B`, `ResNet-C` and `ResNet-D`. \n",
        "\n",
        "The notable changes in the model architecture in our case would be :\n",
        "\n",
        "* In `ResidualCnn`, `resblock2` we are downsampling the input by applying a convulation `stride=2` in the 1st layer of the residual block. `ResNet-B` simply moves the stride `2` to the second convolution and keeps a stride of `1` for the first layer .\n",
        "* The `ResNet-C`, proposed in Inception-v2, removes the `7x7` convolution in the input stem of the network and replaces it with three consecutive 3x3 convolutions. \n",
        "* In `ResNet-D`, the authors replaced the convolution in the downsampling block with a `2x2` average-pooling layer of stride `2` followed by a `1x1` convolution layer. In our case we would have to replace the `idconv` present in `ResidualBlock` module.\n",
        "\n",
        "Let's apply the above changes to our model test the preformance -"
      ]
    },
    {
      "cell_type": "code",
      "metadata": {
        "id": "qjX2mDHonZwy"
      },
      "source": [
        "class XResidualBlock(nn.Module):\n",
        "    \"Creates a simple Residual Block for xResNet architecture\"\n",
        "    def __init__(self, in_chans: int, out_chans: int, \n",
        "                 kernel_size: int, stride: int = 1, act_cls: Callable = nn.ReLU):\n",
        "        \n",
        "        super(XResidualBlock, self).__init__()\n",
        "        self.idconv = None\n",
        "        \n",
        "        self.block1 = ConvBnDropBlock(input_sz=None, in_chans=in_chans, out_chans=out_chans, \n",
        "                                      kernel_size=kernel_size, stride=1, padding=1, \n",
        "                                      use_bn=True, act_cls=act_cls, p_drop=0.0, bias=False)\n",
        "        \n",
        "        # we apply the 1st change here, \n",
        "        # moving the stride 2 to the second convolution and keeps a stride of 1 for the first layer . \n",
        "        self.block2 = ConvBnDropBlock(input_sz=None, in_chans=out_chans, out_chans=out_chans, \n",
        "                                      kernel_size=kernel_size, stride=stride, padding=1, use_bn=True,\n",
        "                                      act_cls=None, p_drop=0.0, bias=False)\n",
        "        \n",
        "        self.act_cls = act_cls(inplace=True)\n",
        "        \n",
        "        if in_chans != out_chans or stride != 1:\n",
        "            # the 3rd change proped above is applied here,\n",
        "            # we replace with a 2x2 average-pooling layer of stride 2 followed by a 1x1 convolution layer\n",
        "            pool_layer = nn.AvgPool2d(2, ceil_mode=True)\n",
        "            conv_layer = ConvBnDropBlock(input_sz=None, in_chans=in_chans, out_chans=out_chans, \n",
        "                                         kernel_size=1, padding=0, use_bn=True, act_cls=None, \n",
        "                                         p_drop=0.0, bias=False)\n",
        "            \n",
        "            self.idconv = nn.Sequential(pool_layer, conv_layer)\n",
        "            \n",
        "        \n",
        "        for m in self.modules():\n",
        "            if isinstance(m, nn.Conv2d):\n",
        "                nn.init.kaiming_normal_(m.weight, mode='fan_out', nonlinearity='relu')\n",
        "            elif isinstance(m, nn.BatchNorm2d):\n",
        "                nn.init.constant_(m.weight, 1)\n",
        "                nn.init.constant_(m.bias, 0)\n",
        "         \n",
        "        # Zero-initialize the last BN in each residual branch,\n",
        "        # so that the residual branch starts with zeros, and each residual block behaves like an identity.\n",
        "        # This improves the model by 0.2~0.3% according to https://arxiv.org/abs/1706.02677\n",
        "        for m in self.block2.modules():\n",
        "            if isinstance(m, nn.BatchNorm2d):\n",
        "                nn.init.constant_(m.weight, 0)\n",
        "                    \n",
        "    def forward(self, x):\n",
        "        identity = x\n",
        "        out = self.block1(x)\n",
        "        out = self.block2(out)\n",
        "        \n",
        "        if self.idconv is not None:\n",
        "            identity = self.idconv(x)\n",
        "        \n",
        "        out += identity\n",
        "        return self.act_cls(out)"
      ],
      "execution_count": 104,
      "outputs": []
    },
    {
      "cell_type": "markdown",
      "metadata": {
        "id": "xahTgOcNne14"
      },
      "source": [
        "The code is, for the most part, taken & modified from the [fast.ai course](https://www.fast.ai/), [fast.ai]() library and [blog post](https://towardsdatascience.com/xresnet-from-scratch-in-pytorch-e64e309af722). "
      ]
    },
    {
      "cell_type": "code",
      "metadata": {
        "id": "zQVrmb4Dnj4v"
      },
      "source": [
        "class XResidualCnn(BaseLineCnn):\n",
        "    def __init__(self, input_sz: int, num_classes: int, lr: float):\n",
        "        kwds = dict(input_sz=input_sz, num_classes=num_classes, lr=lr)\n",
        "        super(XResidualCnn, self).__init__(**kwds)\n",
        "        \n",
        "    def build_network(self):\n",
        "        \n",
        "        s_conv_01 = ConvBnDropBlock(input_sz=self.hparams.input_sz, in_chans=3, out_chans=32, \n",
        "                                    kernel_size=3, p_drop=0, padding=1, stride=2, \n",
        "                                    act_cls=nn.ReLU, bias=False,)\n",
        "        \n",
        "        s_conv_02 = ConvBnDropBlock(input_sz=self.hparams.input_sz, in_chans=32, out_chans=32,\n",
        "                                    kernel_size=3, p_drop=0, padding=1, stride=1, \n",
        "                                    act_cls=nn.ReLU, bias=False)\n",
        "        \n",
        "        s_conv_03 = ConvBnDropBlock(input_sz=self.hparams.input_sz, in_chans=32, out_chans=64,\n",
        "                                    kernel_size=3, p_drop=0, padding=1, stride=1, \n",
        "                                    act_cls=nn.ReLU, bias=False)\n",
        "        \n",
        "        pool  = nn.MaxPool2d(kernel_size=3, stride=2, padding=1)\n",
        "        \n",
        "        stem  = nn.Sequential(s_conv_01, s_conv_02, s_conv_03, pool)\n",
        "        \n",
        "        resblock1 = XResidualBlock(in_chans=64, out_chans=64,  stride=1, kernel_size=3, act_cls=nn.ReLU)\n",
        "        resblock2 = XResidualBlock(in_chans=64, out_chans=128, stride=2, kernel_size=3, act_cls=nn.ReLU)\n",
        "        resblock3 = XResidualBlock(in_chans=128,out_chans=256, stride=2, kernel_size=3, act_cls=nn.ReLU)\n",
        "        \n",
        "        global_pool = nn.Sequential(OrderedDict(pool_layer=nn.AdaptiveAvgPool2d(1), flatten=nn.Flatten()))\n",
        "        \n",
        "        fc1 = nn.Sequential(nn.Linear(256, 512), nn.ReLU(inplace=True), nn.BatchNorm1d(512), nn.Dropout(0.25))\n",
        "        fc2 = nn.Linear(in_features=512, out_features=self.hparams.num_classes)\n",
        "        \n",
        "        ls = OrderedDict(conv_stem=stem, block1=resblock1, block2=resblock2, block3=resblock3, \n",
        "                         global_pool=global_pool, fc1=fc1, fc2=fc2)\n",
        "        return nn.Sequential(ls)"
      ],
      "execution_count": 108,
      "outputs": []
    },
    {
      "cell_type": "markdown",
      "metadata": {
        "id": "7t99NKFfsL6D"
      },
      "source": [
        "Let's train it and see how it fares compared to the previous model -"
      ]
    },
    {
      "cell_type": "code",
      "metadata": {
        "colab": {
          "base_uri": "https://localhost:8080/",
          "height": 797
        },
        "id": "JJYIBu7Bo95m",
        "outputId": "42acfed2-ae89-4781-a7d2-b6580c8f1493"
      },
      "source": [
        "%%time\n",
        "\n",
        "model = XResidualCnn(input_sz=IMG_SIZE, num_classes=len(encoder.classes_), lr=1e-03)\n",
        "\n",
        "cbs = [\n",
        "    ModelCheckpoint(monitor=\"val_loss\", filename=\"XResidualCnn\", dirpath=\"Checkpoints/\"), \n",
        "    NotebookProgressCallback()\n",
        "]\n",
        "\n",
        "trainer = pl.Trainer(max_epochs=20, callbacks=cbs, weights_summary=None, precision=16, gpus=1)\n",
        "\n",
        "train_dl, valid_dl = get_loaders()\n",
        "trainer.fit(model, train_dataloader=train_dl, val_dataloaders=valid_dl)"
      ],
      "execution_count": 110,
      "outputs": [
        {
          "output_type": "stream",
          "text": [
            "GPU available: True, used: True\n",
            "TPU available: False, using: 0 TPU cores\n",
            "Using native 16bit precision.\n",
            "LOCAL_RANK: 0 - CUDA_VISIBLE_DEVICES: [0]\n"
          ],
          "name": "stderr"
        },
        {
          "output_type": "display_data",
          "data": {
            "text/html": [
              ""
            ],
            "text/plain": [
              "<IPython.core.display.HTML object>"
            ]
          },
          "metadata": {
            "tags": []
          }
        },
        {
          "output_type": "display_data",
          "data": {
            "text/html": [
              "\n",
              "    <div>\n",
              "        <style>\n",
              "            progress {\n",
              "                border: none;\n",
              "                background-size: auto;\n",
              "            }\n",
              "        </style>\n",
              "      Training\n",
              "      <progress value='1240' max='1240' style='width:300px; height:20px; vertical-align: middle;'></progress>\n",
              "      [1240/1240 09:08, Epoch 19 {'loss': '0.0143', 'v_num': 10}]\n",
              "    </div>\n",
              "    <table border=\"1\" class=\"dataframe\">\n",
              "  <thead>\n",
              "    <tr style=\"text-align: left;\">\n",
              "      <th>Epoch</th>\n",
              "      <th>Val Loss</th>\n",
              "      <th>Val Acc</th>\n",
              "      <th>Train Loss</th>\n",
              "      <th>Time</th>\n",
              "      <th>Samples /s</th>\n",
              "    </tr>\n",
              "  </thead>\n",
              "  <tbody>\n",
              "    <tr>\n",
              "      <td>0</td>\n",
              "      <td>2.827924</td>\n",
              "      <td>0.221774</td>\n",
              "      <td>2.576481</td>\n",
              "      <td>5.510600</td>\n",
              "      <td>14.154400</td>\n",
              "    </tr>\n",
              "    <tr>\n",
              "      <td>1</td>\n",
              "      <td>1.858159</td>\n",
              "      <td>0.485887</td>\n",
              "      <td>1.358112</td>\n",
              "      <td>5.540500</td>\n",
              "      <td>14.078100</td>\n",
              "    </tr>\n",
              "    <tr>\n",
              "      <td>2</td>\n",
              "      <td>7.826267</td>\n",
              "      <td>0.102823</td>\n",
              "      <td>1.030970</td>\n",
              "      <td>5.519100</td>\n",
              "      <td>14.132800</td>\n",
              "    </tr>\n",
              "    <tr>\n",
              "      <td>3</td>\n",
              "      <td>2.314185</td>\n",
              "      <td>0.421371</td>\n",
              "      <td>0.633058</td>\n",
              "      <td>5.538000</td>\n",
              "      <td>14.084500</td>\n",
              "    </tr>\n",
              "    <tr>\n",
              "      <td>4</td>\n",
              "      <td>2.311115</td>\n",
              "      <td>0.417339</td>\n",
              "      <td>0.209683</td>\n",
              "      <td>5.574800</td>\n",
              "      <td>13.991400</td>\n",
              "    </tr>\n",
              "    <tr>\n",
              "      <td>5</td>\n",
              "      <td>2.357121</td>\n",
              "      <td>0.366935</td>\n",
              "      <td>0.332776</td>\n",
              "      <td>5.566600</td>\n",
              "      <td>14.012100</td>\n",
              "    </tr>\n",
              "    <tr>\n",
              "      <td>6</td>\n",
              "      <td>2.597268</td>\n",
              "      <td>0.391129</td>\n",
              "      <td>0.180493</td>\n",
              "      <td>5.567400</td>\n",
              "      <td>14.010100</td>\n",
              "    </tr>\n",
              "    <tr>\n",
              "      <td>7</td>\n",
              "      <td>1.226834</td>\n",
              "      <td>0.639113</td>\n",
              "      <td>0.144581</td>\n",
              "      <td>5.572100</td>\n",
              "      <td>13.998300</td>\n",
              "    </tr>\n",
              "    <tr>\n",
              "      <td>8</td>\n",
              "      <td>2.008799</td>\n",
              "      <td>0.506048</td>\n",
              "      <td>0.167673</td>\n",
              "      <td>5.497400</td>\n",
              "      <td>14.188400</td>\n",
              "    </tr>\n",
              "    <tr>\n",
              "      <td>9</td>\n",
              "      <td>3.303877</td>\n",
              "      <td>0.366935</td>\n",
              "      <td>0.076347</td>\n",
              "      <td>5.596200</td>\n",
              "      <td>13.938000</td>\n",
              "    </tr>\n",
              "    <tr>\n",
              "      <td>10</td>\n",
              "      <td>1.290451</td>\n",
              "      <td>0.633065</td>\n",
              "      <td>0.133577</td>\n",
              "      <td>5.574100</td>\n",
              "      <td>13.993200</td>\n",
              "    </tr>\n",
              "    <tr>\n",
              "      <td>11</td>\n",
              "      <td>0.715483</td>\n",
              "      <td>0.790323</td>\n",
              "      <td>0.027381</td>\n",
              "      <td>5.555300</td>\n",
              "      <td>14.040700</td>\n",
              "    </tr>\n",
              "    <tr>\n",
              "      <td>12</td>\n",
              "      <td>4.047624</td>\n",
              "      <td>0.320565</td>\n",
              "      <td>0.258667</td>\n",
              "      <td>5.575000</td>\n",
              "      <td>13.991000</td>\n",
              "    </tr>\n",
              "    <tr>\n",
              "      <td>13</td>\n",
              "      <td>1.371333</td>\n",
              "      <td>0.663306</td>\n",
              "      <td>0.024054</td>\n",
              "      <td>5.555100</td>\n",
              "      <td>14.041200</td>\n",
              "    </tr>\n",
              "    <tr>\n",
              "      <td>14</td>\n",
              "      <td>1.319595</td>\n",
              "      <td>0.669355</td>\n",
              "      <td>0.064319</td>\n",
              "      <td>5.605200</td>\n",
              "      <td>13.915600</td>\n",
              "    </tr>\n",
              "    <tr>\n",
              "      <td>15</td>\n",
              "      <td>1.970913</td>\n",
              "      <td>0.558468</td>\n",
              "      <td>0.031424</td>\n",
              "      <td>5.507900</td>\n",
              "      <td>14.161400</td>\n",
              "    </tr>\n",
              "    <tr>\n",
              "      <td>16</td>\n",
              "      <td>0.656829</td>\n",
              "      <td>0.814516</td>\n",
              "      <td>0.009761</td>\n",
              "      <td>5.576600</td>\n",
              "      <td>13.986900</td>\n",
              "    </tr>\n",
              "    <tr>\n",
              "      <td>17</td>\n",
              "      <td>0.678051</td>\n",
              "      <td>0.804435</td>\n",
              "      <td>0.008592</td>\n",
              "      <td>5.537100</td>\n",
              "      <td>14.086700</td>\n",
              "    </tr>\n",
              "    <tr>\n",
              "      <td>18</td>\n",
              "      <td>1.678310</td>\n",
              "      <td>0.604839</td>\n",
              "      <td>0.003303</td>\n",
              "      <td>5.568600</td>\n",
              "      <td>14.007200</td>\n",
              "    </tr>\n",
              "    <tr>\n",
              "      <td>19</td>\n",
              "      <td>2.709791</td>\n",
              "      <td>0.445565</td>\n",
              "      <td>0.018125</td>\n",
              "      <td>5.639300</td>\n",
              "      <td>13.831600</td>\n",
              "    </tr>\n",
              "  </tbody>\n",
              "</table><p>"
            ],
            "text/plain": [
              "<IPython.core.display.HTML object>"
            ]
          },
          "metadata": {
            "tags": []
          }
        },
        {
          "output_type": "stream",
          "text": [
            "CPU times: user 34.4 s, sys: 6.53 s, total: 40.9 s\n",
            "Wall time: 9min 10s\n"
          ],
          "name": "stdout"
        }
      ]
    },
    {
      "cell_type": "code",
      "metadata": {
        "colab": {
          "base_uri": "https://localhost:8080/",
          "height": 68
        },
        "id": "5FBKx6XVsTzW",
        "outputId": "971445f8-4cfc-4f48-c929-bebf8f3fdac3"
      },
      "source": [
        "tst_res = trainer.test(ckpt_path=\"best\", test_dataloaders=[train_dl, valid_dl], verbose=False)\n",
        "trn_acc, val_acc = tst_res[0][\"test_acc/dataloader_idx_0\"], tst_res[1][\"test_acc/dataloader_idx_1\"]\n",
        "print(\"Final Training Accuracy: \", round(trn_acc, 3))\n",
        "print(\"Final Validation Accuracy: \", round(val_acc, 3))"
      ],
      "execution_count": 111,
      "outputs": [
        {
          "output_type": "stream",
          "text": [
            "LOCAL_RANK: 0 - CUDA_VISIBLE_DEVICES: [0]\n"
          ],
          "name": "stderr"
        },
        {
          "output_type": "display_data",
          "data": {
            "text/html": [
              ""
            ],
            "text/plain": [
              "<IPython.core.display.HTML object>"
            ]
          },
          "metadata": {
            "tags": []
          }
        },
        {
          "output_type": "stream",
          "text": [
            "Final Training Accuracy:  1.0\n",
            "Final Validation Accuracy:  0.815\n"
          ],
          "name": "stdout"
        }
      ]
    },
    {
      "cell_type": "code",
      "metadata": {
        "id": "XAOfe5FRtVtf"
      },
      "source": [
        "try:\n",
        "    del model, trainer\n",
        "except: \n",
        "    pass\n",
        "try:\n",
        "    del train_dl, valid_dl\n",
        "except: \n",
        "    pass\n",
        "gc.collect()\n",
        "torch.cuda.empty_cache()"
      ],
      "execution_count": 109,
      "outputs": []
    },
    {
      "cell_type": "markdown",
      "metadata": {
        "id": "iYoNG8J_t0RT"
      },
      "source": [
        "#### Experiment 03\n",
        "> Bottleneck Layers: \n",
        "Instead of stacking two convolutions with a kernel size of 3, bottleneck layers use three different convolutions: two 1×1 (at the beginning and the end) and one 3×3.\n",
        "\n",
        "\n",
        "1×1 convolutions are much faster, so even if this seems to be a more complex design.The overall impact is that we can use more filters in the same amount of time.\n",
        "\n",
        "\n",
        "\n",
        "The class below creates a `BottleNeckBlock` with *x*ResNet tricks -"
      ]
    },
    {
      "cell_type": "code",
      "metadata": {
        "id": "jpXayM9ov-ig"
      },
      "source": [
        "class XBottleNeckBlock(nn.Module):\n",
        "    \"Creates a simple BottleNeck Block\"\n",
        "    def __init__(self, in_chans: int, out_chans: int, \n",
        "                 kernel_size: int, stride: int = 1, act_cls: Callable = nn.ReLU):\n",
        "        \n",
        "        super(XBottleNeckBlock, self).__init__()\n",
        "        self.idconv = None\n",
        "        \n",
        "        self.block1 = ConvBnDropBlock(input_sz=None, in_chans=in_chans, out_chans=out_chans//4, \n",
        "                                      kernel_size=1, stride=1, padding=0, \n",
        "                                      use_bn=True, act_cls=act_cls, p_drop=0.0, bias=False)\n",
        "        \n",
        "        self.block2 = ConvBnDropBlock(input_sz=None, in_chans=out_chans//4, out_chans=out_chans//4, \n",
        "                                      kernel_size=kernel_size, stride=stride, padding=1, \n",
        "                                      use_bn=True, act_cls=act_cls, p_drop=0.0, bias=False)\n",
        "        \n",
        "        self.block3 = ConvBnDropBlock(input_sz=None, in_chans=out_chans//4, out_chans=out_chans, \n",
        "                                      kernel_size=1, stride=1, padding=0, use_bn=True,\n",
        "                                      act_cls=None, p_drop=0.0, bias=False)\n",
        "        \n",
        "        self.act_cls = act_cls(inplace=True)\n",
        "        \n",
        "        if in_chans != out_chans or stride != 1:\n",
        "            # the 3rd change proped above is applied here,\n",
        "            # we replace with a 2x2 average-pooling layer of stride 2 followed by a 1x1 convolution layer\n",
        "            pool_layer = nn.AvgPool2d(2, ceil_mode=True)\n",
        "            conv_layer = ConvBnDropBlock(input_sz=None, in_chans=in_chans, out_chans=out_chans, \n",
        "                                         kernel_size=1, padding=0, use_bn=True, act_cls=None, \n",
        "                                         p_drop=0.0, bias=False)\n",
        "            \n",
        "            self.idconv = nn.Sequential(pool_layer, conv_layer)\n",
        "        \n",
        "        for m in self.modules():\n",
        "            if isinstance(m, nn.Conv2d):\n",
        "                nn.init.kaiming_normal_(m.weight, mode='fan_out', nonlinearity='relu')\n",
        "            elif isinstance(m, nn.BatchNorm2d):\n",
        "                nn.init.constant_(m.weight, 1)\n",
        "                nn.init.constant_(m.bias, 0)\n",
        "         \n",
        "        # Zero-initialize the last BN in each residual branch,\n",
        "        # so that the residual branch starts with zeros, and each residual block behaves like an identity.\n",
        "        # This improves the model by 0.2~0.3% according to https://arxiv.org/abs/1706.02677\n",
        "        for m in self.block3.modules():\n",
        "            if isinstance(m, nn.BatchNorm2d):\n",
        "                nn.init.constant_(m.weight, 0)\n",
        "                    \n",
        "    def forward(self, x):\n",
        "        identity = x\n",
        "        out = self.block1(x)\n",
        "        out = self.block2(out)\n",
        "        out = self.block3(out)\n",
        "        \n",
        "        if self.idconv is not None:\n",
        "            identity = self.idconv(x)\n",
        "        \n",
        "        out += identity\n",
        "        return self.act_cls(out)"
      ],
      "execution_count": 130,
      "outputs": []
    },
    {
      "cell_type": "markdown",
      "metadata": {
        "id": "dxCqmRkIxHvI"
      },
      "source": [
        "Create the Model : \n",
        "\n",
        "We will replace `resblock2` & `resblock3` with `Bottleneck` layers."
      ]
    },
    {
      "cell_type": "code",
      "metadata": {
        "id": "Ew32upgxw5PU"
      },
      "source": [
        "class XBottleNeckCnn(BaseLineCnn):\n",
        "    def __init__(self, input_sz: int, num_classes: int, lr: float):\n",
        "        kwds = dict(input_sz=input_sz, num_classes=num_classes, lr=lr)\n",
        "        super(XBottleNeckCnn, self).__init__(**kwds)\n",
        "        \n",
        "    def build_network(self):\n",
        "        \n",
        "        s_conv_01 = ConvBnDropBlock(input_sz=None, in_chans=3, out_chans=32, \n",
        "                                    kernel_size=3, p_drop=0, padding=1, stride=2, \n",
        "                                    act_cls=nn.ReLU, bias=False,)\n",
        "        \n",
        "        s_conv_02 = ConvBnDropBlock(input_sz=None, in_chans=32, out_chans=32,\n",
        "                                    kernel_size=3, p_drop=0, padding=1, stride=1, \n",
        "                                    act_cls=nn.ReLU, bias=False)\n",
        "        \n",
        "        s_conv_03 = ConvBnDropBlock(input_sz=None, in_chans=32, out_chans=64,\n",
        "                                    kernel_size=3, p_drop=0, padding=1, stride=1, \n",
        "                                    act_cls=nn.ReLU, bias=False)\n",
        "        \n",
        "        pool  = nn.MaxPool2d(kernel_size=3, stride=2, padding=1)\n",
        "        \n",
        "        stem  = nn.Sequential(s_conv_01, s_conv_02, s_conv_03, pool)\n",
        "        \n",
        "        resblock1 = XResidualBlock(in_chans=64, out_chans=64,  stride=1, kernel_size=3, act_cls=nn.ReLU)\n",
        "        resblock2 = XBottleNeckBlock(in_chans=64, out_chans=128, stride=2, kernel_size=3, act_cls=nn.ReLU)\n",
        "        resblock3 = XBottleNeckBlock(in_chans=128,out_chans=256, stride=2, kernel_size=3, act_cls=nn.ReLU)\n",
        "        \n",
        "        global_pool = nn.Sequential(OrderedDict(pool_layer=nn.AdaptiveAvgPool2d(1), flatten=nn.Flatten()))\n",
        "        \n",
        "        fc1 = nn.Sequential(nn.Linear(256, 512), nn.ReLU(inplace=True), nn.BatchNorm1d(512), nn.Dropout(0.25))\n",
        "        fc2 = nn.Linear(in_features=512, out_features=self.hparams.num_classes)\n",
        "        \n",
        "        ls = OrderedDict(conv_stem=stem, block1=resblock1, block2=resblock2, block3=resblock3, \n",
        "                         global_pool=global_pool, fc1=fc1, fc2=fc2)\n",
        "        return nn.Sequential(ls)"
      ],
      "execution_count": 139,
      "outputs": []
    },
    {
      "cell_type": "markdown",
      "metadata": {
        "id": "NIK_KAVAxm4v"
      },
      "source": [
        "Let's train and see if this improves the model performace -"
      ]
    },
    {
      "cell_type": "code",
      "metadata": {
        "colab": {
          "base_uri": "https://localhost:8080/",
          "height": 797
        },
        "id": "xRQkj47gxWnH",
        "outputId": "39e513b7-1d57-4cff-dd0e-bcfa78d7a31b"
      },
      "source": [
        "%%time\n",
        "\n",
        "model = XBottleNeckCnn(input_sz=IMG_SIZE, num_classes=len(encoder.classes_), lr=1e-03)\n",
        "\n",
        "cbs = [\n",
        "    ModelCheckpoint(monitor=\"val_loss\", filename=\"XBottleNeckCnn\", dirpath=\"Checkpoints/\"), \n",
        "    NotebookProgressCallback()\n",
        "]\n",
        "\n",
        "trainer = pl.Trainer(max_epochs=20, callbacks=cbs, weights_summary=None, precision=16, gpus=1)\n",
        "\n",
        "train_dl, valid_dl = get_loaders()\n",
        "trainer.fit(model, train_dataloader=train_dl, val_dataloaders=valid_dl)"
      ],
      "execution_count": 132,
      "outputs": [
        {
          "output_type": "stream",
          "text": [
            "GPU available: True, used: True\n",
            "TPU available: False, using: 0 TPU cores\n",
            "Using native 16bit precision.\n",
            "LOCAL_RANK: 0 - CUDA_VISIBLE_DEVICES: [0]\n"
          ],
          "name": "stderr"
        },
        {
          "output_type": "display_data",
          "data": {
            "text/html": [
              ""
            ],
            "text/plain": [
              "<IPython.core.display.HTML object>"
            ]
          },
          "metadata": {
            "tags": []
          }
        },
        {
          "output_type": "display_data",
          "data": {
            "text/html": [
              "\n",
              "    <div>\n",
              "        <style>\n",
              "            progress {\n",
              "                border: none;\n",
              "                background-size: auto;\n",
              "            }\n",
              "        </style>\n",
              "      Training\n",
              "      <progress value='1240' max='1240' style='width:300px; height:20px; vertical-align: middle;'></progress>\n",
              "      [1240/1240 09:11, Epoch 19 {'loss': '0.0118', 'v_num': 13}]\n",
              "    </div>\n",
              "    <table border=\"1\" class=\"dataframe\">\n",
              "  <thead>\n",
              "    <tr style=\"text-align: left;\">\n",
              "      <th>Epoch</th>\n",
              "      <th>Val Loss</th>\n",
              "      <th>Val Acc</th>\n",
              "      <th>Train Loss</th>\n",
              "      <th>Time</th>\n",
              "      <th>Samples /s</th>\n",
              "    </tr>\n",
              "  </thead>\n",
              "  <tbody>\n",
              "    <tr>\n",
              "      <td>0</td>\n",
              "      <td>2.773939</td>\n",
              "      <td>0.247984</td>\n",
              "      <td>2.750481</td>\n",
              "      <td>5.538500</td>\n",
              "      <td>14.083200</td>\n",
              "    </tr>\n",
              "    <tr>\n",
              "      <td>1</td>\n",
              "      <td>1.995225</td>\n",
              "      <td>0.433468</td>\n",
              "      <td>1.476157</td>\n",
              "      <td>5.536700</td>\n",
              "      <td>14.087700</td>\n",
              "    </tr>\n",
              "    <tr>\n",
              "      <td>2</td>\n",
              "      <td>1.969924</td>\n",
              "      <td>0.433468</td>\n",
              "      <td>0.692724</td>\n",
              "      <td>5.486700</td>\n",
              "      <td>14.216200</td>\n",
              "    </tr>\n",
              "    <tr>\n",
              "      <td>3</td>\n",
              "      <td>1.357970</td>\n",
              "      <td>0.602823</td>\n",
              "      <td>0.706429</td>\n",
              "      <td>5.544900</td>\n",
              "      <td>14.067000</td>\n",
              "    </tr>\n",
              "    <tr>\n",
              "      <td>4</td>\n",
              "      <td>1.429401</td>\n",
              "      <td>0.556452</td>\n",
              "      <td>0.622543</td>\n",
              "      <td>5.501500</td>\n",
              "      <td>14.177800</td>\n",
              "    </tr>\n",
              "    <tr>\n",
              "      <td>5</td>\n",
              "      <td>2.651230</td>\n",
              "      <td>0.370968</td>\n",
              "      <td>0.520830</td>\n",
              "      <td>5.536300</td>\n",
              "      <td>14.088700</td>\n",
              "    </tr>\n",
              "    <tr>\n",
              "      <td>6</td>\n",
              "      <td>2.830447</td>\n",
              "      <td>0.393145</td>\n",
              "      <td>0.153738</td>\n",
              "      <td>5.512300</td>\n",
              "      <td>14.150100</td>\n",
              "    </tr>\n",
              "    <tr>\n",
              "      <td>7</td>\n",
              "      <td>2.944828</td>\n",
              "      <td>0.368952</td>\n",
              "      <td>0.529489</td>\n",
              "      <td>5.598200</td>\n",
              "      <td>13.933000</td>\n",
              "    </tr>\n",
              "    <tr>\n",
              "      <td>8</td>\n",
              "      <td>1.231951</td>\n",
              "      <td>0.639113</td>\n",
              "      <td>0.161753</td>\n",
              "      <td>5.577900</td>\n",
              "      <td>13.983700</td>\n",
              "    </tr>\n",
              "    <tr>\n",
              "      <td>9</td>\n",
              "      <td>1.809780</td>\n",
              "      <td>0.522177</td>\n",
              "      <td>0.134633</td>\n",
              "      <td>5.619000</td>\n",
              "      <td>13.881500</td>\n",
              "    </tr>\n",
              "    <tr>\n",
              "      <td>10</td>\n",
              "      <td>2.135792</td>\n",
              "      <td>0.469758</td>\n",
              "      <td>0.227466</td>\n",
              "      <td>5.516900</td>\n",
              "      <td>14.138300</td>\n",
              "    </tr>\n",
              "    <tr>\n",
              "      <td>11</td>\n",
              "      <td>2.307529</td>\n",
              "      <td>0.489919</td>\n",
              "      <td>0.077777</td>\n",
              "      <td>5.578900</td>\n",
              "      <td>13.981300</td>\n",
              "    </tr>\n",
              "    <tr>\n",
              "      <td>12</td>\n",
              "      <td>5.015389</td>\n",
              "      <td>0.318548</td>\n",
              "      <td>0.061351</td>\n",
              "      <td>5.594700</td>\n",
              "      <td>13.941700</td>\n",
              "    </tr>\n",
              "    <tr>\n",
              "      <td>13</td>\n",
              "      <td>2.226419</td>\n",
              "      <td>0.471774</td>\n",
              "      <td>0.076022</td>\n",
              "      <td>5.574900</td>\n",
              "      <td>13.991300</td>\n",
              "    </tr>\n",
              "    <tr>\n",
              "      <td>14</td>\n",
              "      <td>3.642137</td>\n",
              "      <td>0.445565</td>\n",
              "      <td>0.024592</td>\n",
              "      <td>5.594800</td>\n",
              "      <td>13.941600</td>\n",
              "    </tr>\n",
              "    <tr>\n",
              "      <td>15</td>\n",
              "      <td>0.814464</td>\n",
              "      <td>0.756048</td>\n",
              "      <td>0.043589</td>\n",
              "      <td>5.547400</td>\n",
              "      <td>14.060600</td>\n",
              "    </tr>\n",
              "    <tr>\n",
              "      <td>16</td>\n",
              "      <td>3.143450</td>\n",
              "      <td>0.417339</td>\n",
              "      <td>0.072439</td>\n",
              "      <td>5.530200</td>\n",
              "      <td>14.104300</td>\n",
              "    </tr>\n",
              "    <tr>\n",
              "      <td>17</td>\n",
              "      <td>0.955665</td>\n",
              "      <td>0.735887</td>\n",
              "      <td>0.016220</td>\n",
              "      <td>5.531000</td>\n",
              "      <td>14.102200</td>\n",
              "    </tr>\n",
              "    <tr>\n",
              "      <td>18</td>\n",
              "      <td>1.000485</td>\n",
              "      <td>0.723790</td>\n",
              "      <td>0.015103</td>\n",
              "      <td>5.567400</td>\n",
              "      <td>14.010200</td>\n",
              "    </tr>\n",
              "    <tr>\n",
              "      <td>19</td>\n",
              "      <td>0.764895</td>\n",
              "      <td>0.792339</td>\n",
              "      <td>0.012974</td>\n",
              "      <td>5.570700</td>\n",
              "      <td>14.001800</td>\n",
              "    </tr>\n",
              "  </tbody>\n",
              "</table><p>"
            ],
            "text/plain": [
              "<IPython.core.display.HTML object>"
            ]
          },
          "metadata": {
            "tags": []
          }
        },
        {
          "output_type": "stream",
          "text": [
            "CPU times: user 37.4 s, sys: 6.67 s, total: 44.1 s\n",
            "Wall time: 9min 14s\n"
          ],
          "name": "stdout"
        }
      ]
    },
    {
      "cell_type": "markdown",
      "metadata": {
        "id": "7IhUCEofy_J8"
      },
      "source": [
        "Evaluate model performance - "
      ]
    },
    {
      "cell_type": "code",
      "metadata": {
        "colab": {
          "base_uri": "https://localhost:8080/",
          "height": 68
        },
        "id": "O2PjJkIGxqxo",
        "outputId": "1f1ece4e-022b-4dbb-d11b-69c45ce43f65"
      },
      "source": [
        "tst_res = trainer.test(ckpt_path=\"best\", test_dataloaders=[train_dl, valid_dl], verbose=False)\n",
        "trn_acc, val_acc = tst_res[0][\"test_acc/dataloader_idx_0\"], tst_res[1][\"test_acc/dataloader_idx_1\"]\n",
        "print(\"Final Training Accuracy: \", round(trn_acc, 3))\n",
        "print(\"Final Validation Accuracy: \", round(val_acc, 3))"
      ],
      "execution_count": 133,
      "outputs": [
        {
          "output_type": "stream",
          "text": [
            "LOCAL_RANK: 0 - CUDA_VISIBLE_DEVICES: [0]\n"
          ],
          "name": "stderr"
        },
        {
          "output_type": "display_data",
          "data": {
            "text/html": [
              ""
            ],
            "text/plain": [
              "<IPython.core.display.HTML object>"
            ]
          },
          "metadata": {
            "tags": []
          }
        },
        {
          "output_type": "stream",
          "text": [
            "Final Training Accuracy:  1.0\n",
            "Final Validation Accuracy:  0.792\n"
          ],
          "name": "stdout"
        }
      ]
    },
    {
      "cell_type": "code",
      "metadata": {
        "id": "sJf3BGsuy-S0"
      },
      "source": [
        "try:\n",
        "    del model, trainer\n",
        "except: \n",
        "    pass\n",
        "try:\n",
        "    del train_dl, valid_dl\n",
        "except: \n",
        "    pass\n",
        "gc.collect()\n",
        "torch.cuda.empty_cache()"
      ],
      "execution_count": 134,
      "outputs": []
    },
    {
      "cell_type": "markdown",
      "metadata": {
        "id": "jVqx-K8s1Fqs"
      },
      "source": [
        "#### Experiment 04\n",
        "\n",
        "Why did the performance decrease ?\n",
        "> It is mainly so because deeper netowrks like this usually require larger image sizes to let use bumpy up the Image Sizes and Train for some time."
      ]
    },
    {
      "cell_type": "markdown",
      "metadata": {
        "id": "Y8YU_vOR1idc"
      },
      "source": [
        "Recreating the data input pipeline to account for bigger Image pixels -\n",
        "\n",
        "Since we are recreating the data input pipeline I will also introduce *data augmentation*. \n",
        "\n",
        "Since we are still overfitting on the Training Data. In an attempt to reduce the overfitting I am going to make use to *data augmentation*.\n",
        "\n",
        "> Data augmentation artificially increases the size of the training set by generating many realistic variants of each training instance. Data augmentation is a technique used for introducing variety in training data thereby helping to mitigate overfitting.\n",
        "\n",
        "\n",
        "I am going to apply the following *augmentation* techniques from `torchvision`."
      ]
    },
    {
      "cell_type": "code",
      "metadata": {
        "id": "2xrzxwPF1bKm"
      },
      "source": [
        "IMG_SIZE = 128\n",
        "\n",
        "base_tfms = T.Compose([\n",
        "    T.Resize((IMG_SIZE, IMG_SIZE)),\n",
        "    T.CenterCrop((IMG_SIZE, IMG_SIZE)),\n",
        "    T.ToTensor(),\n",
        "    T.Normalize(torch.tensor(MEAN), torch.tensor(STD)),\n",
        "    T.Grayscale(num_output_channels=3),\n",
        "])\n",
        "\n",
        "aug_transforms = T.Compose([\n",
        "    T.RandomRotation(degrees=8),\n",
        "    T.Resize(IMG_SIZE),\n",
        "    T.CenterCrop((IMG_SIZE, IMG_SIZE)),\n",
        "    T.ColorJitter(0.5, 0.5, 0.5, 0.0),\n",
        "    T.RandomAdjustSharpness(2),\n",
        "    T.ToTensor(),\n",
        "    T.Normalize(torch.tensor(MEAN), torch.tensor(STD)),\n",
        "    T.Grayscale(num_output_channels=3),\n",
        "    #T.RandomErasing(p=0.5, value=\"random\")\n",
        "])\n",
        "\n",
        "def get_loaders():\n",
        "    # instantiate the dataset set obj\n",
        "    train_ds = Dataset_01(df=TRAIN_DATASET_01, transforms=aug_transforms)\n",
        "    valid_ds = Dataset_01(df=VALID_DATASET_01, transforms=base_tfms)\n",
        "\n",
        "    # create the dataloaders obj\n",
        "    train_dl = DataLoader(train_ds, batch_size=32, num_workers=num_cpus(), shuffle=True) \n",
        "    valid_dl = DataLoader(valid_ds, batch_size=32, num_workers=num_cpus(), shuffle=False)\n",
        "    return train_dl, valid_dl"
      ],
      "execution_count": 151,
      "outputs": []
    },
    {
      "cell_type": "markdown",
      "metadata": {
        "id": "uTJlSjY410Ge"
      },
      "source": [
        "Training the model -"
      ]
    },
    {
      "cell_type": "code",
      "metadata": {
        "colab": {
          "base_uri": "https://localhost:8080/",
          "height": 797
        },
        "id": "3x0qigJz1veM",
        "outputId": "737cd577-4bc2-472d-e124-0f8c8b5d13d1"
      },
      "source": [
        "%%time\n",
        "\n",
        "model = XBottleNeckCnn(input_sz=IMG_SIZE, num_classes=len(encoder.classes_), lr=3e-03)\n",
        "\n",
        "cbs = [\n",
        "    ModelCheckpoint(monitor=\"val_loss\", filename=\"XBottleNeckCnn-V2\", dirpath=\"Checkpoints/\"), \n",
        "    NotebookProgressCallback()\n",
        "]\n",
        "\n",
        "trainer = pl.Trainer(max_epochs=20, callbacks=cbs, weights_summary=None, precision=16, gpus=1)\n",
        "\n",
        "train_dl, valid_dl = get_loaders()\n",
        "trainer.fit(model, train_dataloader=train_dl, val_dataloaders=valid_dl)"
      ],
      "execution_count": 152,
      "outputs": [
        {
          "output_type": "stream",
          "text": [
            "GPU available: True, used: True\n",
            "TPU available: False, using: 0 TPU cores\n",
            "Using native 16bit precision.\n",
            "LOCAL_RANK: 0 - CUDA_VISIBLE_DEVICES: [0]\n"
          ],
          "name": "stderr"
        },
        {
          "output_type": "display_data",
          "data": {
            "text/html": [
              ""
            ],
            "text/plain": [
              "<IPython.core.display.HTML object>"
            ]
          },
          "metadata": {
            "tags": []
          }
        },
        {
          "output_type": "display_data",
          "data": {
            "text/html": [
              "\n",
              "    <div>\n",
              "        <style>\n",
              "            progress {\n",
              "                border: none;\n",
              "                background-size: auto;\n",
              "            }\n",
              "        </style>\n",
              "      Training\n",
              "      <progress value='1240' max='1240' style='width:300px; height:20px; vertical-align: middle;'></progress>\n",
              "      [1240/1240 13:03, Epoch 19 {'loss': '0.36', 'v_num': 17}]\n",
              "    </div>\n",
              "    <table border=\"1\" class=\"dataframe\">\n",
              "  <thead>\n",
              "    <tr style=\"text-align: left;\">\n",
              "      <th>Epoch</th>\n",
              "      <th>Val Loss</th>\n",
              "      <th>Val Acc</th>\n",
              "      <th>Train Loss</th>\n",
              "      <th>Time</th>\n",
              "      <th>Samples /s</th>\n",
              "    </tr>\n",
              "  </thead>\n",
              "  <tbody>\n",
              "    <tr>\n",
              "      <td>0</td>\n",
              "      <td>5.804060</td>\n",
              "      <td>0.016129</td>\n",
              "      <td>4.248426</td>\n",
              "      <td>5.865100</td>\n",
              "      <td>13.299100</td>\n",
              "    </tr>\n",
              "    <tr>\n",
              "      <td>1</td>\n",
              "      <td>3.874882</td>\n",
              "      <td>0.058468</td>\n",
              "      <td>3.832026</td>\n",
              "      <td>5.922300</td>\n",
              "      <td>13.170600</td>\n",
              "    </tr>\n",
              "    <tr>\n",
              "      <td>2</td>\n",
              "      <td>4.462786</td>\n",
              "      <td>0.050403</td>\n",
              "      <td>3.720376</td>\n",
              "      <td>5.959800</td>\n",
              "      <td>13.087600</td>\n",
              "    </tr>\n",
              "    <tr>\n",
              "      <td>3</td>\n",
              "      <td>4.070086</td>\n",
              "      <td>0.096774</td>\n",
              "      <td>3.080545</td>\n",
              "      <td>5.880200</td>\n",
              "      <td>13.264900</td>\n",
              "    </tr>\n",
              "    <tr>\n",
              "      <td>4</td>\n",
              "      <td>2.400613</td>\n",
              "      <td>0.324597</td>\n",
              "      <td>2.858072</td>\n",
              "      <td>5.979900</td>\n",
              "      <td>13.043700</td>\n",
              "    </tr>\n",
              "    <tr>\n",
              "      <td>5</td>\n",
              "      <td>2.729007</td>\n",
              "      <td>0.231855</td>\n",
              "      <td>2.156799</td>\n",
              "      <td>5.864800</td>\n",
              "      <td>13.299600</td>\n",
              "    </tr>\n",
              "    <tr>\n",
              "      <td>6</td>\n",
              "      <td>2.094549</td>\n",
              "      <td>0.403226</td>\n",
              "      <td>1.556265</td>\n",
              "      <td>5.934900</td>\n",
              "      <td>13.142600</td>\n",
              "    </tr>\n",
              "    <tr>\n",
              "      <td>7</td>\n",
              "      <td>5.065962</td>\n",
              "      <td>0.104839</td>\n",
              "      <td>1.298303</td>\n",
              "      <td>5.904800</td>\n",
              "      <td>13.209500</td>\n",
              "    </tr>\n",
              "    <tr>\n",
              "      <td>8</td>\n",
              "      <td>1.835006</td>\n",
              "      <td>0.445565</td>\n",
              "      <td>0.959822</td>\n",
              "      <td>5.888400</td>\n",
              "      <td>13.246400</td>\n",
              "    </tr>\n",
              "    <tr>\n",
              "      <td>9</td>\n",
              "      <td>1.380406</td>\n",
              "      <td>0.564516</td>\n",
              "      <td>1.007409</td>\n",
              "      <td>5.868500</td>\n",
              "      <td>13.291400</td>\n",
              "    </tr>\n",
              "    <tr>\n",
              "      <td>10</td>\n",
              "      <td>7.034904</td>\n",
              "      <td>0.205645</td>\n",
              "      <td>0.612955</td>\n",
              "      <td>5.935700</td>\n",
              "      <td>13.140800</td>\n",
              "    </tr>\n",
              "    <tr>\n",
              "      <td>11</td>\n",
              "      <td>1.860985</td>\n",
              "      <td>0.475806</td>\n",
              "      <td>0.649792</td>\n",
              "      <td>5.980900</td>\n",
              "      <td>13.041400</td>\n",
              "    </tr>\n",
              "    <tr>\n",
              "      <td>12</td>\n",
              "      <td>58.033298</td>\n",
              "      <td>0.030242</td>\n",
              "      <td>0.742153</td>\n",
              "      <td>5.946900</td>\n",
              "      <td>13.116100</td>\n",
              "    </tr>\n",
              "    <tr>\n",
              "      <td>13</td>\n",
              "      <td>1.621193</td>\n",
              "      <td>0.497984</td>\n",
              "      <td>0.509205</td>\n",
              "      <td>5.924700</td>\n",
              "      <td>13.165300</td>\n",
              "    </tr>\n",
              "    <tr>\n",
              "      <td>14</td>\n",
              "      <td>38.191689</td>\n",
              "      <td>0.098790</td>\n",
              "      <td>0.366198</td>\n",
              "      <td>5.941900</td>\n",
              "      <td>13.127100</td>\n",
              "    </tr>\n",
              "    <tr>\n",
              "      <td>15</td>\n",
              "      <td>13.566384</td>\n",
              "      <td>0.183468</td>\n",
              "      <td>0.617338</td>\n",
              "      <td>5.941800</td>\n",
              "      <td>13.127400</td>\n",
              "    </tr>\n",
              "    <tr>\n",
              "      <td>16</td>\n",
              "      <td>89.792168</td>\n",
              "      <td>0.016129</td>\n",
              "      <td>0.281986</td>\n",
              "      <td>5.902200</td>\n",
              "      <td>13.215300</td>\n",
              "    </tr>\n",
              "    <tr>\n",
              "      <td>17</td>\n",
              "      <td>0.846025</td>\n",
              "      <td>0.721774</td>\n",
              "      <td>0.558846</td>\n",
              "      <td>5.936500</td>\n",
              "      <td>13.139100</td>\n",
              "    </tr>\n",
              "    <tr>\n",
              "      <td>18</td>\n",
              "      <td>2.738596</td>\n",
              "      <td>0.415323</td>\n",
              "      <td>0.272246</td>\n",
              "      <td>5.971000</td>\n",
              "      <td>13.063200</td>\n",
              "    </tr>\n",
              "    <tr>\n",
              "      <td>19</td>\n",
              "      <td>1.684557</td>\n",
              "      <td>0.556452</td>\n",
              "      <td>0.526368</td>\n",
              "      <td>5.918400</td>\n",
              "      <td>13.179300</td>\n",
              "    </tr>\n",
              "  </tbody>\n",
              "</table><p>"
            ],
            "text/plain": [
              "<IPython.core.display.HTML object>"
            ]
          },
          "metadata": {
            "tags": []
          }
        },
        {
          "output_type": "stream",
          "text": [
            "CPU times: user 44.6 s, sys: 11.8 s, total: 56.4 s\n",
            "Wall time: 13min 6s\n"
          ],
          "name": "stdout"
        }
      ]
    },
    {
      "cell_type": "code",
      "metadata": {
        "id": "UJG0mcM52Qfq"
      },
      "source": [
        "try:\n",
        "    del model, trainer\n",
        "except: \n",
        "    pass\n",
        "try:\n",
        "    del train_dl, valid_dl\n",
        "except: \n",
        "    pass\n",
        "gc.collect()\n",
        "torch.cuda.empty_cache()"
      ],
      "execution_count": 153,
      "outputs": []
    },
    {
      "cell_type": "markdown",
      "metadata": {
        "id": "Y0EwNYtt7xZp"
      },
      "source": [
        "#### Experiment 05\n",
        "> In this experiment let's try to stop our model from overfitting on the Dataset."
      ]
    },
    {
      "cell_type": "markdown",
      "metadata": {
        "id": "1yjENKU6AD0H"
      },
      "source": [
        "Resuing the older pipeling because increasing the Image sizes did not provide better results."
      ]
    },
    {
      "cell_type": "code",
      "metadata": {
        "id": "qtuBZ5gB_EQ-"
      },
      "source": [
        "IMG_SIZE = 64\n",
        "\n",
        "base_tfms = T.Compose([\n",
        "    T.Resize((IMG_SIZE, IMG_SIZE)),\n",
        "    T.CenterCrop((IMG_SIZE, IMG_SIZE)),\n",
        "    T.ToTensor(),\n",
        "    T.Normalize(torch.tensor(MEAN), torch.tensor(STD)),\n",
        "    T.Grayscale(num_output_channels=3),\n",
        "])\n",
        "\n",
        "aug_transforms = T.Compose([\n",
        "    T.RandomRotation(degrees=8),\n",
        "    T.Resize(IMG_SIZE),\n",
        "    T.CenterCrop((IMG_SIZE, IMG_SIZE)),\n",
        "    T.ColorJitter(0.5, 0.5, 0.5, 0.0),\n",
        "    T.RandomAdjustSharpness(2),\n",
        "    T.ToTensor(),\n",
        "    T.Normalize(torch.tensor(MEAN), torch.tensor(STD)),\n",
        "    T.Grayscale(num_output_channels=3),\n",
        "])\n",
        "\n",
        "def get_loaders():\n",
        "    # instantiate the dataset set obj\n",
        "    train_ds = Dataset_01(df=TRAIN_DATASET_01, transforms=aug_transforms)\n",
        "    valid_ds = Dataset_01(df=VALID_DATASET_01, transforms=base_tfms)\n",
        "\n",
        "    # create the dataloaders obj\n",
        "    train_dl = DataLoader(train_ds, batch_size=32, num_workers=num_cpus(), shuffle=True) \n",
        "    valid_dl = DataLoader(valid_ds, batch_size=32, num_workers=num_cpus(), shuffle=False)\n",
        "    return train_dl, valid_dl"
      ],
      "execution_count": 160,
      "outputs": []
    },
    {
      "cell_type": "markdown",
      "metadata": {
        "id": "9geV6opA8Slb"
      },
      "source": [
        "One of the main reason why we might be overfitting may be beacuse of the Large size of the model. Models with more number of parameters are more likely to overfit.\n",
        "So in this experiment i will remove one residual block from the model.\n",
        "\n",
        "So we will drop the Bottleneck blocks and swith back to the basic Residual bloacks because Bottleneck blocks are not giving much improvement in this case."
      ]
    },
    {
      "cell_type": "code",
      "metadata": {
        "id": "oqcAAJfn8on3"
      },
      "source": [
        "class XResidualCnn_small(BaseLineCnn):\n",
        "    def __init__(self, input_sz: int, num_classes: int, lr: float):\n",
        "        kwds = dict(input_sz=input_sz, num_classes=num_classes, lr=lr)\n",
        "        super(XResidualCnn_small, self).__init__(**kwds)\n",
        "        \n",
        "    def build_network(self):\n",
        "        \n",
        "        s_conv_01 = ConvBnDropBlock(input_sz=self.hparams.input_sz, in_chans=3, out_chans=32, \n",
        "                                    kernel_size=3, p_drop=0, padding=1, stride=2, \n",
        "                                    act_cls=nn.ReLU, bias=False,)\n",
        "        \n",
        "        s_conv_02 = ConvBnDropBlock(input_sz=self.hparams.input_sz, in_chans=32, out_chans=32,\n",
        "                                    kernel_size=3, p_drop=0, padding=1, stride=1, \n",
        "                                    act_cls=nn.ReLU, bias=False)\n",
        "        \n",
        "        s_conv_03 = ConvBnDropBlock(input_sz=self.hparams.input_sz, in_chans=32, out_chans=64,\n",
        "                                    kernel_size=3, p_drop=0, padding=1, stride=1, \n",
        "                                    act_cls=nn.ReLU, bias=False)\n",
        "        \n",
        "        pool  = nn.MaxPool2d(kernel_size=3, stride=2, padding=1)\n",
        "        \n",
        "        stem  = nn.Sequential(s_conv_01, s_conv_02, s_conv_03, pool)\n",
        "        \n",
        "        resblock1 = XResidualBlock(in_chans=64, out_chans=64,  stride=1, kernel_size=3, act_cls=nn.ReLU)\n",
        "        resblock2 = XResidualBlock(in_chans=64, out_chans=128, stride=2, kernel_size=3, act_cls=nn.ReLU)\n",
        "        # resblock3 = XResidualBlock(in_chans=128,out_chans=256, stride=2, kernel_size=3, act_cls=nn.ReLU)\n",
        "        \n",
        "        # introdue dropout to reduce overfitting\n",
        "        global_pool = nn.Sequential(OrderedDict(pool_layer=nn.AdaptiveAvgPool2d(1), \n",
        "                                                dropout=nn.Dropout2d(0.2),\n",
        "                                                flatten=nn.Flatten()))\n",
        "        \n",
        "        # increase dropout\n",
        "        fc1 = nn.Sequential(nn.Linear(128, 256), nn.ReLU(inplace=True), nn.BatchNorm1d(256), nn.Dropout(0.5))\n",
        "        fc2 = nn.Linear(in_features=256, out_features=self.hparams.num_classes, bias=False)\n",
        "        \n",
        "        ls = OrderedDict(conv_stem=stem, block1=resblock1, block2=resblock2, \n",
        "                         global_pool=global_pool, fc1=fc1, fc2=fc2)\n",
        "        return nn.Sequential(ls)"
      ],
      "execution_count": 162,
      "outputs": []
    },
    {
      "cell_type": "code",
      "metadata": {
        "colab": {
          "base_uri": "https://localhost:8080/",
          "height": 797
        },
        "id": "j9ljIw5p8oq7",
        "outputId": "597dbbd5-82c3-4785-da09-2557115a86cb"
      },
      "source": [
        "%%time\n",
        "\n",
        "model = XResidualCnn_small(input_sz=IMG_SIZE, num_classes=len(encoder.classes_), lr=3e-03)\n",
        "\n",
        "cbs = [\n",
        "    ModelCheckpoint(monitor=\"val_loss\", filename=\"XBottleNeckCnn-small\", dirpath=\"Checkpoints/\"), \n",
        "    NotebookProgressCallback()\n",
        "]\n",
        "\n",
        "trainer = pl.Trainer(max_epochs=20, callbacks=cbs, weights_summary=None, precision=16, gpus=1)\n",
        "\n",
        "train_dl, valid_dl = get_loaders()\n",
        "trainer.fit(model, train_dataloader=train_dl, val_dataloaders=valid_dl)"
      ],
      "execution_count": 163,
      "outputs": [
        {
          "output_type": "stream",
          "text": [
            "GPU available: True, used: True\n",
            "TPU available: False, using: 0 TPU cores\n",
            "Using native 16bit precision.\n",
            "LOCAL_RANK: 0 - CUDA_VISIBLE_DEVICES: [0]\n"
          ],
          "name": "stderr"
        },
        {
          "output_type": "display_data",
          "data": {
            "text/html": [
              ""
            ],
            "text/plain": [
              "<IPython.core.display.HTML object>"
            ]
          },
          "metadata": {
            "tags": []
          }
        },
        {
          "output_type": "display_data",
          "data": {
            "text/html": [
              "\n",
              "    <div>\n",
              "        <style>\n",
              "            progress {\n",
              "                border: none;\n",
              "                background-size: auto;\n",
              "            }\n",
              "        </style>\n",
              "      Training\n",
              "      <progress value='1240' max='1240' style='width:300px; height:20px; vertical-align: middle;'></progress>\n",
              "      [1240/1240 11:43, Epoch 19 {'loss': '0.616', 'v_num': 19}]\n",
              "    </div>\n",
              "    <table border=\"1\" class=\"dataframe\">\n",
              "  <thead>\n",
              "    <tr style=\"text-align: left;\">\n",
              "      <th>Epoch</th>\n",
              "      <th>Val Loss</th>\n",
              "      <th>Val Acc</th>\n",
              "      <th>Train Loss</th>\n",
              "      <th>Time</th>\n",
              "      <th>Samples /s</th>\n",
              "    </tr>\n",
              "  </thead>\n",
              "  <tbody>\n",
              "    <tr>\n",
              "      <td>0</td>\n",
              "      <td>4.340046</td>\n",
              "      <td>0.018145</td>\n",
              "      <td>4.224821</td>\n",
              "      <td>5.588000</td>\n",
              "      <td>13.958400</td>\n",
              "    </tr>\n",
              "    <tr>\n",
              "      <td>1</td>\n",
              "      <td>3.941405</td>\n",
              "      <td>0.044355</td>\n",
              "      <td>3.981400</td>\n",
              "      <td>5.523700</td>\n",
              "      <td>14.121000</td>\n",
              "    </tr>\n",
              "    <tr>\n",
              "      <td>2</td>\n",
              "      <td>3.706958</td>\n",
              "      <td>0.078629</td>\n",
              "      <td>3.414754</td>\n",
              "      <td>5.525900</td>\n",
              "      <td>14.115300</td>\n",
              "    </tr>\n",
              "    <tr>\n",
              "      <td>3</td>\n",
              "      <td>3.573612</td>\n",
              "      <td>0.082661</td>\n",
              "      <td>3.434564</td>\n",
              "      <td>5.478200</td>\n",
              "      <td>14.238400</td>\n",
              "    </tr>\n",
              "    <tr>\n",
              "      <td>4</td>\n",
              "      <td>3.105582</td>\n",
              "      <td>0.145161</td>\n",
              "      <td>2.961257</td>\n",
              "      <td>5.511700</td>\n",
              "      <td>14.151700</td>\n",
              "    </tr>\n",
              "    <tr>\n",
              "      <td>5</td>\n",
              "      <td>3.131900</td>\n",
              "      <td>0.116935</td>\n",
              "      <td>2.410105</td>\n",
              "      <td>5.548100</td>\n",
              "      <td>14.059000</td>\n",
              "    </tr>\n",
              "    <tr>\n",
              "      <td>6</td>\n",
              "      <td>2.567209</td>\n",
              "      <td>0.278226</td>\n",
              "      <td>2.170946</td>\n",
              "      <td>5.496300</td>\n",
              "      <td>14.191300</td>\n",
              "    </tr>\n",
              "    <tr>\n",
              "      <td>7</td>\n",
              "      <td>2.196080</td>\n",
              "      <td>0.381048</td>\n",
              "      <td>1.883782</td>\n",
              "      <td>5.559800</td>\n",
              "      <td>14.029200</td>\n",
              "    </tr>\n",
              "    <tr>\n",
              "      <td>8</td>\n",
              "      <td>1.674113</td>\n",
              "      <td>0.516129</td>\n",
              "      <td>1.458873</td>\n",
              "      <td>5.560800</td>\n",
              "      <td>14.026700</td>\n",
              "    </tr>\n",
              "    <tr>\n",
              "      <td>9</td>\n",
              "      <td>1.832757</td>\n",
              "      <td>0.439516</td>\n",
              "      <td>1.232278</td>\n",
              "      <td>5.474400</td>\n",
              "      <td>14.248300</td>\n",
              "    </tr>\n",
              "    <tr>\n",
              "      <td>10</td>\n",
              "      <td>1.125883</td>\n",
              "      <td>0.659274</td>\n",
              "      <td>1.199049</td>\n",
              "      <td>5.488100</td>\n",
              "      <td>14.212700</td>\n",
              "    </tr>\n",
              "    <tr>\n",
              "      <td>11</td>\n",
              "      <td>1.207969</td>\n",
              "      <td>0.643145</td>\n",
              "      <td>1.134321</td>\n",
              "      <td>5.544400</td>\n",
              "      <td>14.068300</td>\n",
              "    </tr>\n",
              "    <tr>\n",
              "      <td>12</td>\n",
              "      <td>1.222530</td>\n",
              "      <td>0.627016</td>\n",
              "      <td>1.024616</td>\n",
              "      <td>5.533900</td>\n",
              "      <td>14.094900</td>\n",
              "    </tr>\n",
              "    <tr>\n",
              "      <td>13</td>\n",
              "      <td>1.052728</td>\n",
              "      <td>0.691532</td>\n",
              "      <td>0.532507</td>\n",
              "      <td>5.524700</td>\n",
              "      <td>14.118400</td>\n",
              "    </tr>\n",
              "    <tr>\n",
              "      <td>14</td>\n",
              "      <td>0.802349</td>\n",
              "      <td>0.747984</td>\n",
              "      <td>0.992218</td>\n",
              "      <td>5.579600</td>\n",
              "      <td>13.979400</td>\n",
              "    </tr>\n",
              "    <tr>\n",
              "      <td>15</td>\n",
              "      <td>1.033935</td>\n",
              "      <td>0.677419</td>\n",
              "      <td>0.809460</td>\n",
              "      <td>5.519100</td>\n",
              "      <td>14.132700</td>\n",
              "    </tr>\n",
              "    <tr>\n",
              "      <td>16</td>\n",
              "      <td>0.728958</td>\n",
              "      <td>0.780242</td>\n",
              "      <td>0.762102</td>\n",
              "      <td>5.600300</td>\n",
              "      <td>13.927800</td>\n",
              "    </tr>\n",
              "    <tr>\n",
              "      <td>17</td>\n",
              "      <td>0.822674</td>\n",
              "      <td>0.743952</td>\n",
              "      <td>0.485644</td>\n",
              "      <td>5.498600</td>\n",
              "      <td>14.185400</td>\n",
              "    </tr>\n",
              "    <tr>\n",
              "      <td>18</td>\n",
              "      <td>0.805776</td>\n",
              "      <td>0.733871</td>\n",
              "      <td>0.534429</td>\n",
              "      <td>5.520200</td>\n",
              "      <td>14.130000</td>\n",
              "    </tr>\n",
              "    <tr>\n",
              "      <td>19</td>\n",
              "      <td>0.617379</td>\n",
              "      <td>0.794355</td>\n",
              "      <td>0.357290</td>\n",
              "      <td>5.478500</td>\n",
              "      <td>14.237500</td>\n",
              "    </tr>\n",
              "  </tbody>\n",
              "</table><p>"
            ],
            "text/plain": [
              "<IPython.core.display.HTML object>"
            ]
          },
          "metadata": {
            "tags": []
          }
        },
        {
          "output_type": "stream",
          "text": [
            "CPU times: user 31.5 s, sys: 6.62 s, total: 38.1 s\n",
            "Wall time: 11min 46s\n"
          ],
          "name": "stdout"
        }
      ]
    },
    {
      "cell_type": "markdown",
      "metadata": {
        "id": "be1dhUAICUAT"
      },
      "source": [
        "Let's compute the metrics on this model -"
      ]
    },
    {
      "cell_type": "code",
      "metadata": {
        "colab": {
          "base_uri": "https://localhost:8080/",
          "height": 68
        },
        "id": "G4YJ-LmZCIHP",
        "outputId": "f257d585-4196-450b-9f3a-c10e4e0004a7"
      },
      "source": [
        "tst_res = trainer.test(ckpt_path=\"best\", test_dataloaders=[train_dl, valid_dl], verbose=False)\n",
        "trn_acc, val_acc = tst_res[0][\"test_acc/dataloader_idx_0\"], tst_res[1][\"test_acc/dataloader_idx_1\"]\n",
        "print(\"Final Training Accuracy: \", round(trn_acc, 3))\n",
        "print(\"Final Validation Accuracy: \", round(val_acc, 3))"
      ],
      "execution_count": 164,
      "outputs": [
        {
          "output_type": "stream",
          "text": [
            "LOCAL_RANK: 0 - CUDA_VISIBLE_DEVICES: [0]\n"
          ],
          "name": "stderr"
        },
        {
          "output_type": "display_data",
          "data": {
            "text/html": [
              ""
            ],
            "text/plain": [
              "<IPython.core.display.HTML object>"
            ]
          },
          "metadata": {
            "tags": []
          }
        },
        {
          "output_type": "stream",
          "text": [
            "Final Training Accuracy:  0.889\n",
            "Final Validation Accuracy:  0.794\n"
          ],
          "name": "stdout"
        }
      ]
    },
    {
      "cell_type": "markdown",
      "metadata": {
        "id": "F3YY_iDQCYAi"
      },
      "source": [
        "This is good progress ! We were sucessfully able to reduce the overfitting on our model which giving good performace on the unseen data ."
      ]
    },
    {
      "cell_type": "code",
      "metadata": {
        "id": "RcfYYm9H8ouc"
      },
      "source": [
        "try:\n",
        "    del model, trainer\n",
        "except: \n",
        "    pass\n",
        "try:\n",
        "    del train_dl, valid_dl\n",
        "except: \n",
        "    pass\n",
        "gc.collect()\n",
        "torch.cuda.empty_cache()"
      ],
      "execution_count": 165,
      "outputs": []
    },
    {
      "cell_type": "markdown",
      "metadata": {
        "id": "kegfxKfMC38y"
      },
      "source": [
        "#### Experiment 06\n",
        "\n",
        "Let's see if we can furthur increase performance. This time let's introduce weight decay in the Netowork and check the performance.\n",
        "\n",
        "> To introduce weight decay in the Network, I will switch from `Adam` to `AdamW` Optimizer. `AdamW` was inroduced in this [paper](https://arxiv.org/abs/1711.05101). Experiments by the fast.ai group has shown that `AdamW` along with the [1cycle policy](https://arxiv.org/abs/1708.07120) of learning rate scheduling gives very good results.\n",
        "\n",
        "To implement 1cycle policy learning rate scheduler, I will use the scheduler class `OneCycleLR` present in pytorch."
      ]
    },
    {
      "cell_type": "markdown",
      "metadata": {
        "id": "roHhcM4WDMer"
      },
      "source": [
        "In our above model we only need to make changes to `configure_optimizers` method -"
      ]
    },
    {
      "cell_type": "code",
      "metadata": {
        "id": "r4oTm2t3CYOs"
      },
      "source": [
        "class XResidualCnn_small_wd(XResidualCnn_small):\n",
        "    def __init__(self, input_sz: int, num_classes: int, lr: float, wd: float):\n",
        "        kwds = dict(input_sz=input_sz, num_classes=num_classes, lr=lr)\n",
        "        super(XResidualCnn_small_wd, self).__init__(**kwds)\n",
        "        self.save_hyperparameters(\"wd\")\n",
        "\n",
        "    def configure_optimizers(self):\n",
        "        parameters = list(self.parameters())\n",
        "        trainable_parameters = list(filter(lambda p: p.requires_grad, parameters))\n",
        "        \n",
        "        opt_func = optim.AdamW(trainable_parameters, lr=self.hparams.lr, weight_decay=self.hparams.wd)\n",
        "        \n",
        "        steps_per_epoch = len(self.train_dataloader())\n",
        "        num_epochs = self.trainer.max_epochs\n",
        "        \n",
        "        scheduler = optim.lr_scheduler.OneCycleLR(opt_func, \n",
        "                                                  max_lr=self.hparams.lr, \n",
        "                                                  epochs=num_epochs, \n",
        "                                                  steps_per_epoch=steps_per_epoch,\n",
        "                                                  cycle_momentum=True,\n",
        "                                                  base_momentum=0.85, \n",
        "                                                  max_momentum=0.95,)\n",
        "        \n",
        "        return [opt_func], [dict(scheduler=scheduler, interval='step')]"
      ],
      "execution_count": 167,
      "outputs": []
    },
    {
      "cell_type": "markdown",
      "metadata": {
        "id": "ncNy9NtiDgUe"
      },
      "source": [
        "Train -"
      ]
    },
    {
      "cell_type": "code",
      "metadata": {
        "colab": {
          "base_uri": "https://localhost:8080/",
          "height": 797
        },
        "id": "TlNuKDeB8vsy",
        "outputId": "6c65ab5b-ebf8-4254-b2c6-476d69acebcb"
      },
      "source": [
        "%%time\n",
        "\n",
        "model = XResidualCnn_small_wd(input_sz=IMG_SIZE, num_classes=len(encoder.classes_), lr=3e-03, wd=1e-02)\n",
        "\n",
        "cbs = [\n",
        "    ModelCheckpoint(monitor=\"val_loss\", filename=\"XBottleNeckCnn-small-wd\", dirpath=\"Checkpoints/\"), \n",
        "    NotebookProgressCallback()\n",
        "]\n",
        "\n",
        "trainer = pl.Trainer(max_epochs=20, callbacks=cbs, weights_summary=None, precision=16, gpus=1)\n",
        "\n",
        "train_dl, valid_dl = get_loaders()\n",
        "trainer.fit(model, train_dataloader=train_dl, val_dataloaders=valid_dl)"
      ],
      "execution_count": 168,
      "outputs": [
        {
          "output_type": "stream",
          "text": [
            "GPU available: True, used: True\n",
            "TPU available: False, using: 0 TPU cores\n",
            "Using native 16bit precision.\n",
            "LOCAL_RANK: 0 - CUDA_VISIBLE_DEVICES: [0]\n"
          ],
          "name": "stderr"
        },
        {
          "output_type": "display_data",
          "data": {
            "text/html": [
              ""
            ],
            "text/plain": [
              "<IPython.core.display.HTML object>"
            ]
          },
          "metadata": {
            "tags": []
          }
        },
        {
          "output_type": "display_data",
          "data": {
            "text/html": [
              "\n",
              "    <div>\n",
              "        <style>\n",
              "            progress {\n",
              "                border: none;\n",
              "                background-size: auto;\n",
              "            }\n",
              "        </style>\n",
              "      Training\n",
              "      <progress value='1240' max='1240' style='width:300px; height:20px; vertical-align: middle;'></progress>\n",
              "      [1240/1240 11:52, Epoch 19 {'loss': '0.596', 'v_num': 20}]\n",
              "    </div>\n",
              "    <table border=\"1\" class=\"dataframe\">\n",
              "  <thead>\n",
              "    <tr style=\"text-align: left;\">\n",
              "      <th>Epoch</th>\n",
              "      <th>Val Loss</th>\n",
              "      <th>Val Acc</th>\n",
              "      <th>Train Loss</th>\n",
              "      <th>Time</th>\n",
              "      <th>Samples /s</th>\n",
              "    </tr>\n",
              "  </thead>\n",
              "  <tbody>\n",
              "    <tr>\n",
              "      <td>0</td>\n",
              "      <td>4.124193</td>\n",
              "      <td>0.020161</td>\n",
              "      <td>4.326107</td>\n",
              "      <td>5.510500</td>\n",
              "      <td>14.154800</td>\n",
              "    </tr>\n",
              "    <tr>\n",
              "      <td>1</td>\n",
              "      <td>4.053967</td>\n",
              "      <td>0.044355</td>\n",
              "      <td>4.381746</td>\n",
              "      <td>5.500700</td>\n",
              "      <td>14.180000</td>\n",
              "    </tr>\n",
              "    <tr>\n",
              "      <td>2</td>\n",
              "      <td>3.784762</td>\n",
              "      <td>0.044355</td>\n",
              "      <td>4.169970</td>\n",
              "      <td>5.473300</td>\n",
              "      <td>14.251000</td>\n",
              "    </tr>\n",
              "    <tr>\n",
              "      <td>3</td>\n",
              "      <td>3.761079</td>\n",
              "      <td>0.086694</td>\n",
              "      <td>3.431999</td>\n",
              "      <td>5.571600</td>\n",
              "      <td>13.999500</td>\n",
              "    </tr>\n",
              "    <tr>\n",
              "      <td>4</td>\n",
              "      <td>3.116359</td>\n",
              "      <td>0.167339</td>\n",
              "      <td>3.184250</td>\n",
              "      <td>5.497900</td>\n",
              "      <td>14.187100</td>\n",
              "    </tr>\n",
              "    <tr>\n",
              "      <td>5</td>\n",
              "      <td>3.222268</td>\n",
              "      <td>0.131048</td>\n",
              "      <td>3.064633</td>\n",
              "      <td>5.505700</td>\n",
              "      <td>14.167200</td>\n",
              "    </tr>\n",
              "    <tr>\n",
              "      <td>6</td>\n",
              "      <td>2.490273</td>\n",
              "      <td>0.282258</td>\n",
              "      <td>2.753922</td>\n",
              "      <td>5.678300</td>\n",
              "      <td>13.736500</td>\n",
              "    </tr>\n",
              "    <tr>\n",
              "      <td>7</td>\n",
              "      <td>1.965969</td>\n",
              "      <td>0.447581</td>\n",
              "      <td>2.310204</td>\n",
              "      <td>5.676900</td>\n",
              "      <td>13.739900</td>\n",
              "    </tr>\n",
              "    <tr>\n",
              "      <td>8</td>\n",
              "      <td>2.641862</td>\n",
              "      <td>0.280242</td>\n",
              "      <td>1.665412</td>\n",
              "      <td>5.508900</td>\n",
              "      <td>14.158900</td>\n",
              "    </tr>\n",
              "    <tr>\n",
              "      <td>9</td>\n",
              "      <td>1.604439</td>\n",
              "      <td>0.540323</td>\n",
              "      <td>1.425226</td>\n",
              "      <td>5.612500</td>\n",
              "      <td>13.897400</td>\n",
              "    </tr>\n",
              "    <tr>\n",
              "      <td>10</td>\n",
              "      <td>1.360619</td>\n",
              "      <td>0.602823</td>\n",
              "      <td>0.947857</td>\n",
              "      <td>5.566300</td>\n",
              "      <td>14.012900</td>\n",
              "    </tr>\n",
              "    <tr>\n",
              "      <td>11</td>\n",
              "      <td>1.525290</td>\n",
              "      <td>0.556452</td>\n",
              "      <td>1.063259</td>\n",
              "      <td>5.496100</td>\n",
              "      <td>14.191900</td>\n",
              "    </tr>\n",
              "    <tr>\n",
              "      <td>12</td>\n",
              "      <td>1.102652</td>\n",
              "      <td>0.693548</td>\n",
              "      <td>0.827312</td>\n",
              "      <td>5.628800</td>\n",
              "      <td>13.857300</td>\n",
              "    </tr>\n",
              "    <tr>\n",
              "      <td>13</td>\n",
              "      <td>1.004456</td>\n",
              "      <td>0.699597</td>\n",
              "      <td>0.943096</td>\n",
              "      <td>5.575700</td>\n",
              "      <td>13.989300</td>\n",
              "    </tr>\n",
              "    <tr>\n",
              "      <td>14</td>\n",
              "      <td>0.818629</td>\n",
              "      <td>0.741935</td>\n",
              "      <td>0.893048</td>\n",
              "      <td>5.608600</td>\n",
              "      <td>13.907100</td>\n",
              "    </tr>\n",
              "    <tr>\n",
              "      <td>15</td>\n",
              "      <td>0.915867</td>\n",
              "      <td>0.737903</td>\n",
              "      <td>0.622904</td>\n",
              "      <td>5.539200</td>\n",
              "      <td>14.081400</td>\n",
              "    </tr>\n",
              "    <tr>\n",
              "      <td>16</td>\n",
              "      <td>0.832978</td>\n",
              "      <td>0.756048</td>\n",
              "      <td>0.725074</td>\n",
              "      <td>5.497500</td>\n",
              "      <td>14.188400</td>\n",
              "    </tr>\n",
              "    <tr>\n",
              "      <td>17</td>\n",
              "      <td>0.837119</td>\n",
              "      <td>0.754032</td>\n",
              "      <td>0.441599</td>\n",
              "      <td>5.548600</td>\n",
              "      <td>14.057500</td>\n",
              "    </tr>\n",
              "    <tr>\n",
              "      <td>18</td>\n",
              "      <td>0.823834</td>\n",
              "      <td>0.758065</td>\n",
              "      <td>0.396897</td>\n",
              "      <td>5.507600</td>\n",
              "      <td>14.162400</td>\n",
              "    </tr>\n",
              "    <tr>\n",
              "      <td>19</td>\n",
              "      <td>0.788222</td>\n",
              "      <td>0.774194</td>\n",
              "      <td>0.603486</td>\n",
              "      <td>5.535600</td>\n",
              "      <td>14.090500</td>\n",
              "    </tr>\n",
              "  </tbody>\n",
              "</table><p>"
            ],
            "text/plain": [
              "<IPython.core.display.HTML object>"
            ]
          },
          "metadata": {
            "tags": []
          }
        },
        {
          "output_type": "stream",
          "text": [
            "CPU times: user 32.4 s, sys: 6.52 s, total: 38.9 s\n",
            "Wall time: 11min 55s\n"
          ],
          "name": "stdout"
        }
      ]
    },
    {
      "cell_type": "markdown",
      "metadata": {
        "id": "228339rHDjca"
      },
      "source": [
        "Evaluate Model Performance -"
      ]
    },
    {
      "cell_type": "code",
      "metadata": {
        "colab": {
          "base_uri": "https://localhost:8080/",
          "height": 68
        },
        "id": "QR_nQYBA8wpH",
        "outputId": "cd488f58-e3d0-4d0b-a003-6483638c1176"
      },
      "source": [
        "tst_res = trainer.test(ckpt_path=\"best\", test_dataloaders=[train_dl, valid_dl], verbose=False)\n",
        "trn_acc, val_acc = tst_res[0][\"test_acc/dataloader_idx_0\"], tst_res[1][\"test_acc/dataloader_idx_1\"]\n",
        "print(\"Final Training Accuracy: \", round(trn_acc, 3))\n",
        "print(\"Final Validation Accuracy: \", round(val_acc, 3))"
      ],
      "execution_count": 170,
      "outputs": [
        {
          "output_type": "stream",
          "text": [
            "LOCAL_RANK: 0 - CUDA_VISIBLE_DEVICES: [0]\n"
          ],
          "name": "stderr"
        },
        {
          "output_type": "display_data",
          "data": {
            "text/html": [
              ""
            ],
            "text/plain": [
              "<IPython.core.display.HTML object>"
            ]
          },
          "metadata": {
            "tags": []
          }
        },
        {
          "output_type": "stream",
          "text": [
            "Final Training Accuracy:  0.916\n",
            "Final Validation Accuracy:  0.774\n"
          ],
          "name": "stdout"
        }
      ]
    },
    {
      "cell_type": "markdown",
      "metadata": {
        "id": "Zj3Pbca0Gz3Z"
      },
      "source": [
        "Performance might not have increased but the training of the model looks somre stable now."
      ]
    },
    {
      "cell_type": "code",
      "metadata": {
        "id": "blvvwiwl8wsg"
      },
      "source": [
        "try:\n",
        "    del model, trainer\n",
        "except: \n",
        "    pass\n",
        "try:\n",
        "    del train_dl, valid_dl\n",
        "except: \n",
        "    pass\n",
        "gc.collect()\n",
        "torch.cuda.empty_cache()"
      ],
      "execution_count": 172,
      "outputs": []
    },
    {
      "cell_type": "markdown",
      "metadata": {
        "id": "Bosj5r96zCeG"
      },
      "source": [
        "#### Experiment 07\n",
        "> In this experiment I plan to use some of [State of the Training techniques](https://forums.fast.ai/t/how-we-beat-the-5-epoch-imagewoof-leaderboard-score-some-new-techniques-to-consider/53453) that were used to top the leaderboard score for` 5 epoch Imagewoof`.\n",
        "\n",
        "\n",
        "\n",
        "The techniques I will be employing are as follows - \n",
        "* `Mish activation function instead of ReLU` : Mish is a new activation function that was released in a [paper](https://arxiv.org/abs/1908.08681). It has a much smoother curve vs relu, and in theory, that drives information more deeply through the network.\n",
        "* `Self attention layer` : The self attention layer is designed to help leverage long range dependencies within an image vs the more local feature focus of convolutions. Paper Link : [https://arxiv.org/abs/1805.08318]\n",
        "\n",
        "\n",
        "\n",
        "The folks from fast.ai who employed the above techniques noticed that `SimpleSelfAttention` layer, when placed within a Resnet block, the network converges if `SimpleSelfAttention` is placed right after a convolution layer that uses batch norm, and initializes the batchnorm weights to 0.\n",
        "\n",
        "[Source](https://github.com/sdoria/SimpleSelfAttention)"
      ]
    },
    {
      "cell_type": "markdown",
      "metadata": {
        "id": "1ElXz7VPzCg2"
      },
      "source": [
        "The code for creating the `SimpleSelfAttention` module has been borrowed from [here](https://github.com/sdoria/SimpleSelfAttention/blob/master/xresnet.py)."
      ]
    },
    {
      "cell_type": "code",
      "metadata": {
        "id": "CjV9ZwOIzCjP"
      },
      "source": [
        "from torch.nn.utils import spectral_norm"
      ],
      "execution_count": 173,
      "outputs": []
    },
    {
      "cell_type": "code",
      "metadata": {
        "id": "eLHtIG9RzCmC"
      },
      "source": [
        "def conv1d(ni:int, no:int, ks:int=1, stride:int=1, padding:int=0, bias:bool=False):\n",
        "    \"Create and initialize a `nn.Conv1d` layer with spectral normalization.\"\n",
        "    conv = nn.Conv1d(ni, no, ks, stride=stride, padding=padding, bias=bias)\n",
        "    nn.init.kaiming_normal_(conv.weight)\n",
        "    if bias: conv.bias.data.zero_()\n",
        "    return spectral_norm(conv)\n",
        "\n",
        "\n",
        "class SimpleSelfAttention(nn.Module):\n",
        "    \n",
        "    def __init__(self, n_in:int, ks=1, sym=False):\n",
        "        super().__init__()\n",
        "           \n",
        "        self.conv = conv1d(n_in, n_in, ks, padding=ks//2, bias=False)      \n",
        "       \n",
        "        self.gamma = nn.Parameter(torch.tensor([0.]))\n",
        "        \n",
        "        self.sym = sym\n",
        "        self.n_in = n_in\n",
        "        \n",
        "    def forward(self,x):\n",
        "          \n",
        "        if self.sym:\n",
        "            # symmetry hack by https://github.com/mgrankin\n",
        "            c = self.conv.weight.view(self.n_in,self.n_in)\n",
        "            c = (c + c.t())/2\n",
        "            self.conv.weight = c.view(self.n_in,self.n_in,1)\n",
        "                \n",
        "        size = x.size()  \n",
        "        x = x.view(*size[:2],-1)\n",
        "        \n",
        "        convx = self.conv(x)\n",
        "        xxT = torch.bmm(x,x.permute(0,2,1).contiguous())\n",
        "        \n",
        "        o = torch.bmm(xxT, convx)\n",
        "          \n",
        "        o = self.gamma * o + x\n",
        "        return o.view(*size).contiguous()"
      ],
      "execution_count": 174,
      "outputs": []
    },
    {
      "cell_type": "markdown",
      "metadata": {
        "id": "6rCMGxmSzCoi"
      },
      "source": [
        "The code block implements the `Mish` Activation function, the code for which has been borrowed from the [repository](https://github.com/digantamisra98/Mish/blob/master/Mish/Torch/functional.py) of the original author of `Mish`."
      ]
    },
    {
      "cell_type": "code",
      "metadata": {
        "id": "Rv_KzkeLzYVI"
      },
      "source": [
        "@torch.jit.script\n",
        "def mish(input):\n",
        "    '''\n",
        "    Applies the mish function element-wise:\n",
        "    mish(x) = x * tanh(softplus(x)) = x * tanh(ln(1 + exp(x)))\n",
        "    '''\n",
        "    return input * torch.tanh(F.softplus(input))\n",
        "\n",
        "\n",
        "class Mish(nn.Module):\n",
        "    def __init__(self, *args, **kwargs):\n",
        "        super(Mish, self).__init__()\n",
        "    \n",
        "    def forward(self, xb):\n",
        "        return mish(xb)"
      ],
      "execution_count": 175,
      "outputs": []
    },
    {
      "cell_type": "markdown",
      "metadata": {
        "id": "kx6N4e0WzYYS"
      },
      "source": [
        "The code below adds `SelfAttention` to the `Residual` and `BottleNeck` blocks, which are the building blocks for our *x*ResNet based model architecture."
      ]
    },
    {
      "cell_type": "code",
      "metadata": {
        "id": "z9sspbJozYbG"
      },
      "source": [
        "class XResidualBlockSA(nn.Module):\n",
        "    \"Creates a simple Residual Block with SelfAttention for xResNet architecture\"\n",
        "    def __init__(self, in_chans: int, out_chans: int, \n",
        "                 kernel_size: int, stride: int = 1, act_cls: Callable = Mish):\n",
        "        \n",
        "        super(XResidualBlockSA, self).__init__()\n",
        "        self.idconv = None\n",
        "        \n",
        "        self.block1 = ConvBnDropBlock(input_sz=None, in_chans=in_chans, out_chans=out_chans,\n",
        "                                      kernel_size=kernel_size, stride=1, padding=1, \n",
        "                                      use_bn=True, act_cls=act_cls, p_drop=0.0, bias=False)\n",
        "         \n",
        "        self.block2 = ConvBnDropBlock(input_sz=None, in_chans=out_chans, out_chans=out_chans, \n",
        "                                      kernel_size=kernel_size, stride=stride, padding=1, use_bn=True,\n",
        "                                      act_cls=None, p_drop=0.0, bias=False)\n",
        "        \n",
        "        # initialize the SimpleSelfAttention Layer\n",
        "        self.sa = SimpleSelfAttention(out_chans,ks=1,sym=False)    \n",
        "        \n",
        "        self.act_cls = act_cls(inplace=True)\n",
        "        \n",
        "        if in_chans != out_chans or stride != 1:\n",
        "            pool_layer = nn.AvgPool2d(2, ceil_mode=True)\n",
        "            \n",
        "            conv_layer = ConvBnDropBlock(input_sz=None, in_chans=in_chans, out_chans=out_chans, \n",
        "                                         kernel_size=1, padding=0, use_bn=True, act_cls=None, \n",
        "                                         p_drop=0.0, bias=False)\n",
        "            \n",
        "            self.idconv = nn.Sequential(pool_layer, conv_layer)         \n",
        "            \n",
        "        for m in self.modules():\n",
        "            if isinstance(m, nn.Conv2d):\n",
        "                nn.init.kaiming_normal_(m.weight, mode='fan_out', nonlinearity='relu')\n",
        "            elif isinstance(m, nn.BatchNorm2d):\n",
        "                nn.init.constant_(m.weight, 1)\n",
        "                nn.init.constant_(m.bias, 0)\n",
        "                \n",
        "        for m in self.block2.modules():\n",
        "            if isinstance(m, nn.BatchNorm2d):\n",
        "                nn.init.constant_(m.weight, 0)\n",
        "                    \n",
        "    def forward(self, x):\n",
        "        identity = x\n",
        "        out = self.block1(x)\n",
        "        out = self.block2(out)\n",
        "        out = self.sa(out)\n",
        "        \n",
        "        if self.idconv is not None:\n",
        "            identity = self.idconv(x)\n",
        "        \n",
        "        out += identity\n",
        "        return self.act_cls(out)"
      ],
      "execution_count": 176,
      "outputs": []
    },
    {
      "cell_type": "markdown",
      "metadata": {
        "id": "TizKT22OHRbU"
      },
      "source": [
        "Let's build up the pytorch LightningModule -"
      ]
    },
    {
      "cell_type": "code",
      "metadata": {
        "id": "ZGoJKgBZzmVi"
      },
      "source": [
        "class XResidualCnn_SA(XResidualCnn_small):\n",
        "    def __init__(self, input_sz: int, num_classes: int, lr: float, wd: float):\n",
        "        kwds = dict(input_sz=input_sz, num_classes=num_classes, lr=lr)\n",
        "        super(XResidualCnn_SA, self).__init__(**kwds)\n",
        "        self.save_hyperparameters(\"wd\")\n",
        "\n",
        "    def build_network(self):\n",
        "        \n",
        "        s_conv_01 = ConvBnDropBlock(input_sz=self.hparams.input_sz, in_chans=3, out_chans=32, \n",
        "                                    kernel_size=3, p_drop=0, padding=1, stride=2, \n",
        "                                    act_cls=Mish, bias=False,)\n",
        "        \n",
        "        s_conv_02 = ConvBnDropBlock(input_sz=self.hparams.input_sz, in_chans=32, out_chans=32,\n",
        "                                    kernel_size=3, p_drop=0, padding=1, stride=1, \n",
        "                                    act_cls=Mish, bias=False)\n",
        "        \n",
        "        s_conv_03 = ConvBnDropBlock(input_sz=self.hparams.input_sz, in_chans=32, out_chans=64,\n",
        "                                    kernel_size=3, p_drop=0, padding=1, stride=1, \n",
        "                                    act_cls=Mish, bias=False)\n",
        "        \n",
        "        pool  = nn.MaxPool2d(kernel_size=3, stride=2, padding=1)\n",
        "        \n",
        "        stem  = nn.Sequential(s_conv_01, s_conv_02, s_conv_03, pool)\n",
        "        \n",
        "        resblock1 = XResidualBlockSA(in_chans=64, out_chans=64,  stride=1, kernel_size=3, act_cls=Mish)\n",
        "        resblock2 = XResidualBlockSA(in_chans=64, out_chans=128, stride=2, kernel_size=3, act_cls=Mish)\n",
        "\n",
        "        # introdue dropout to reduce overfitting\n",
        "        global_pool = nn.Sequential(OrderedDict(pool_layer=nn.AdaptiveAvgPool2d(1), \n",
        "                                                dropout=nn.Dropout2d(0.2),\n",
        "                                                flatten=nn.Flatten()))\n",
        "        \n",
        "        # increase dropout\n",
        "        fc1 = nn.Sequential(nn.Linear(128, 256), Mish(inplace=True), nn.BatchNorm1d(256), nn.Dropout(0.5))\n",
        "        fc2 = nn.Linear(in_features=256, out_features=self.hparams.num_classes, bias=False)\n",
        "        \n",
        "        ls = OrderedDict(conv_stem=stem, block1=resblock1, block2=resblock2, \n",
        "                         global_pool=global_pool, fc1=fc1, fc2=fc2)\n",
        "        return nn.Sequential(ls)"
      ],
      "execution_count": 177,
      "outputs": []
    },
    {
      "cell_type": "code",
      "metadata": {
        "colab": {
          "base_uri": "https://localhost:8080/",
          "height": 797
        },
        "id": "MR6qi9tuzmY1",
        "outputId": "ef5e9cfa-d684-48c8-ac19-d369fdd63477"
      },
      "source": [
        "%%time\n",
        "\n",
        "model = XResidualCnn_SA(input_sz=IMG_SIZE, num_classes=len(encoder.classes_), lr=3e-03, wd=1e-02)\n",
        "\n",
        "cbs = [\n",
        "    ModelCheckpoint(monitor=\"val_loss\", filename=\"XResidualCnn_SA\", dirpath=\"Checkpoints/\"), \n",
        "    NotebookProgressCallback()\n",
        "]\n",
        "\n",
        "trainer = pl.Trainer(max_epochs=20, callbacks=cbs, weights_summary=None, precision=16, gpus=1)\n",
        "\n",
        "train_dl, valid_dl = get_loaders()\n",
        "trainer.fit(model, train_dataloader=train_dl, val_dataloaders=valid_dl)"
      ],
      "execution_count": 178,
      "outputs": [
        {
          "output_type": "stream",
          "text": [
            "GPU available: True, used: True\n",
            "TPU available: False, using: 0 TPU cores\n",
            "Using native 16bit precision.\n",
            "LOCAL_RANK: 0 - CUDA_VISIBLE_DEVICES: [0]\n"
          ],
          "name": "stderr"
        },
        {
          "output_type": "display_data",
          "data": {
            "text/html": [
              ""
            ],
            "text/plain": [
              "<IPython.core.display.HTML object>"
            ]
          },
          "metadata": {
            "tags": []
          }
        },
        {
          "output_type": "display_data",
          "data": {
            "text/html": [
              "\n",
              "    <div>\n",
              "        <style>\n",
              "            progress {\n",
              "                border: none;\n",
              "                background-size: auto;\n",
              "            }\n",
              "        </style>\n",
              "      Training\n",
              "      <progress value='1240' max='1240' style='width:300px; height:20px; vertical-align: middle;'></progress>\n",
              "      [1240/1240 11:54, Epoch 19 {'loss': '0.403', 'v_num': 21}]\n",
              "    </div>\n",
              "    <table border=\"1\" class=\"dataframe\">\n",
              "  <thead>\n",
              "    <tr style=\"text-align: left;\">\n",
              "      <th>Epoch</th>\n",
              "      <th>Val Loss</th>\n",
              "      <th>Val Acc</th>\n",
              "      <th>Train Loss</th>\n",
              "      <th>Time</th>\n",
              "      <th>Samples /s</th>\n",
              "    </tr>\n",
              "  </thead>\n",
              "  <tbody>\n",
              "    <tr>\n",
              "      <td>0</td>\n",
              "      <td>5.095870</td>\n",
              "      <td>0.050403</td>\n",
              "      <td>4.287250</td>\n",
              "      <td>6.424800</td>\n",
              "      <td>12.140400</td>\n",
              "    </tr>\n",
              "    <tr>\n",
              "      <td>1</td>\n",
              "      <td>3.582792</td>\n",
              "      <td>0.076613</td>\n",
              "      <td>3.795233</td>\n",
              "      <td>5.526600</td>\n",
              "      <td>14.113500</td>\n",
              "    </tr>\n",
              "    <tr>\n",
              "      <td>2</td>\n",
              "      <td>3.693048</td>\n",
              "      <td>0.100806</td>\n",
              "      <td>3.290091</td>\n",
              "      <td>5.707200</td>\n",
              "      <td>13.666900</td>\n",
              "    </tr>\n",
              "    <tr>\n",
              "      <td>3</td>\n",
              "      <td>2.364712</td>\n",
              "      <td>0.316532</td>\n",
              "      <td>2.355530</td>\n",
              "      <td>5.628600</td>\n",
              "      <td>13.857700</td>\n",
              "    </tr>\n",
              "    <tr>\n",
              "      <td>4</td>\n",
              "      <td>2.072242</td>\n",
              "      <td>0.389113</td>\n",
              "      <td>1.552244</td>\n",
              "      <td>5.595400</td>\n",
              "      <td>13.939900</td>\n",
              "    </tr>\n",
              "    <tr>\n",
              "      <td>5</td>\n",
              "      <td>1.484457</td>\n",
              "      <td>0.570565</td>\n",
              "      <td>1.713690</td>\n",
              "      <td>5.723900</td>\n",
              "      <td>13.627100</td>\n",
              "    </tr>\n",
              "    <tr>\n",
              "      <td>6</td>\n",
              "      <td>1.321376</td>\n",
              "      <td>0.588710</td>\n",
              "      <td>1.023754</td>\n",
              "      <td>5.609400</td>\n",
              "      <td>13.905200</td>\n",
              "    </tr>\n",
              "    <tr>\n",
              "      <td>7</td>\n",
              "      <td>1.109768</td>\n",
              "      <td>0.622984</td>\n",
              "      <td>0.834359</td>\n",
              "      <td>5.594500</td>\n",
              "      <td>13.942200</td>\n",
              "    </tr>\n",
              "    <tr>\n",
              "      <td>8</td>\n",
              "      <td>1.039882</td>\n",
              "      <td>0.655242</td>\n",
              "      <td>0.685212</td>\n",
              "      <td>5.603100</td>\n",
              "      <td>13.920800</td>\n",
              "    </tr>\n",
              "    <tr>\n",
              "      <td>9</td>\n",
              "      <td>1.041819</td>\n",
              "      <td>0.663306</td>\n",
              "      <td>0.941142</td>\n",
              "      <td>5.633000</td>\n",
              "      <td>13.847000</td>\n",
              "    </tr>\n",
              "    <tr>\n",
              "      <td>10</td>\n",
              "      <td>0.879748</td>\n",
              "      <td>0.703629</td>\n",
              "      <td>0.698622</td>\n",
              "      <td>5.607900</td>\n",
              "      <td>13.908800</td>\n",
              "    </tr>\n",
              "    <tr>\n",
              "      <td>11</td>\n",
              "      <td>1.310862</td>\n",
              "      <td>0.616935</td>\n",
              "      <td>0.745124</td>\n",
              "      <td>5.711300</td>\n",
              "      <td>13.657000</td>\n",
              "    </tr>\n",
              "    <tr>\n",
              "      <td>12</td>\n",
              "      <td>1.099682</td>\n",
              "      <td>0.675403</td>\n",
              "      <td>1.249826</td>\n",
              "      <td>5.585600</td>\n",
              "      <td>13.964500</td>\n",
              "    </tr>\n",
              "    <tr>\n",
              "      <td>13</td>\n",
              "      <td>1.083764</td>\n",
              "      <td>0.655242</td>\n",
              "      <td>0.554213</td>\n",
              "      <td>5.606400</td>\n",
              "      <td>13.912600</td>\n",
              "    </tr>\n",
              "    <tr>\n",
              "      <td>14</td>\n",
              "      <td>0.598150</td>\n",
              "      <td>0.800403</td>\n",
              "      <td>0.479162</td>\n",
              "      <td>5.654300</td>\n",
              "      <td>13.794700</td>\n",
              "    </tr>\n",
              "    <tr>\n",
              "      <td>15</td>\n",
              "      <td>0.755820</td>\n",
              "      <td>0.770161</td>\n",
              "      <td>0.554092</td>\n",
              "      <td>5.579700</td>\n",
              "      <td>13.979300</td>\n",
              "    </tr>\n",
              "    <tr>\n",
              "      <td>16</td>\n",
              "      <td>1.047590</td>\n",
              "      <td>0.717742</td>\n",
              "      <td>0.539023</td>\n",
              "      <td>5.559500</td>\n",
              "      <td>14.030100</td>\n",
              "    </tr>\n",
              "    <tr>\n",
              "      <td>17</td>\n",
              "      <td>0.808776</td>\n",
              "      <td>0.752016</td>\n",
              "      <td>0.580924</td>\n",
              "      <td>5.596400</td>\n",
              "      <td>13.937600</td>\n",
              "    </tr>\n",
              "    <tr>\n",
              "      <td>18</td>\n",
              "      <td>2.090671</td>\n",
              "      <td>0.524194</td>\n",
              "      <td>0.396233</td>\n",
              "      <td>5.509200</td>\n",
              "      <td>14.158300</td>\n",
              "    </tr>\n",
              "    <tr>\n",
              "      <td>19</td>\n",
              "      <td>1.128441</td>\n",
              "      <td>0.659274</td>\n",
              "      <td>0.324817</td>\n",
              "      <td>5.621900</td>\n",
              "      <td>13.874400</td>\n",
              "    </tr>\n",
              "  </tbody>\n",
              "</table><p>"
            ],
            "text/plain": [
              "<IPython.core.display.HTML object>"
            ]
          },
          "metadata": {
            "tags": []
          }
        },
        {
          "output_type": "stream",
          "text": [
            "CPU times: user 47.2 s, sys: 7.04 s, total: 54.2 s\n",
            "Wall time: 12min 2s\n"
          ],
          "name": "stdout"
        }
      ]
    },
    {
      "cell_type": "markdown",
      "metadata": {
        "id": "ObkvRFpWIiA7"
      },
      "source": [
        "Evaluate Model Performance -"
      ]
    },
    {
      "cell_type": "code",
      "metadata": {
        "colab": {
          "base_uri": "https://localhost:8080/",
          "height": 68
        },
        "id": "rAVTQCyyzmb4",
        "outputId": "39c5d937-e45c-4688-fc50-22ab71abd19a"
      },
      "source": [
        "tst_res = trainer.test(ckpt_path=\"best\", test_dataloaders=[train_dl, valid_dl], verbose=False)\n",
        "trn_acc, val_acc = tst_res[0][\"test_acc/dataloader_idx_0\"], tst_res[1][\"test_acc/dataloader_idx_1\"]\n",
        "print(\"Final Training Accuracy: \", round(trn_acc, 3))\n",
        "print(\"Final Validation Accuracy: \", round(val_acc, 3))"
      ],
      "execution_count": 179,
      "outputs": [
        {
          "output_type": "stream",
          "text": [
            "LOCAL_RANK: 0 - CUDA_VISIBLE_DEVICES: [0]\n"
          ],
          "name": "stderr"
        },
        {
          "output_type": "display_data",
          "data": {
            "text/html": [
              ""
            ],
            "text/plain": [
              "<IPython.core.display.HTML object>"
            ]
          },
          "metadata": {
            "tags": []
          }
        },
        {
          "output_type": "stream",
          "text": [
            "Final Training Accuracy:  0.918\n",
            "Final Validation Accuracy:  0.8\n"
          ],
          "name": "stdout"
        }
      ]
    },
    {
      "cell_type": "code",
      "metadata": {
        "id": "FIibTevdzmfR"
      },
      "source": [
        "try:\n",
        "    del model, trainer\n",
        "except: \n",
        "    pass\n",
        "try:\n",
        "    del train_dl, valid_dl\n",
        "except: \n",
        "    pass\n",
        "gc.collect()\n",
        "torch.cuda.empty_cache()"
      ],
      "execution_count": 180,
      "outputs": []
    },
    {
      "cell_type": "markdown",
      "metadata": {
        "id": "oCdDnmJfIdMs"
      },
      "source": [
        "#### Experiment 08\n",
        "> Increased weight decay and apply heavy *data augmentation*"
      ]
    },
    {
      "cell_type": "markdown",
      "metadata": {
        "id": "5EPmbWoFIdQu"
      },
      "source": [
        "This is section, I will explore more heavy data augmentation techniques. For this I will use data transformations from the albumentations library. Since, `albumentations` transforms are a bit different from the `torchvision` transforms we will need to rewrite our data loading pipeline."
      ]
    },
    {
      "cell_type": "code",
      "metadata": {
        "id": "41LNP_GwLrnW"
      },
      "source": [
        "import albumentations as A\n",
        "import cv2\n",
        "from albumentations.pytorch import ToTensorV2 as ToTensor"
      ],
      "execution_count": 181,
      "outputs": []
    },
    {
      "cell_type": "code",
      "metadata": {
        "id": "8tETnE9ZLtrc"
      },
      "source": [
        "class Dataset_01_V2(Dataset):\n",
        "    def __init__(self, df:pd.DataFrame, transforms: A.Compose = None):\n",
        "        self._dataframe  = df\n",
        "        self._transforms = transforms\n",
        "        self._gray_tfm = T.Grayscale(num_output_channels=3)\n",
        "    \n",
        "    @property\n",
        "    def transforms(self):\n",
        "        return self._transforms\n",
        "        \n",
        "    def __len__(self):\n",
        "        return len(self._dataframe)\n",
        "    \n",
        "    def __getitem__(self, idx):\n",
        "        im = self._dataframe['image_id'][idx]\n",
        "        im = cv2.imread(im)\n",
        "        im = cv2.cvtColor(im, cv2.COLOR_BGR2RGB)\n",
        "        \n",
        "        if self._transforms is not None:\n",
        "            # apply albumentations transformation to the Images\n",
        "            im = self._transforms(image=im)[\"image\"]\n",
        "            # apply torchvision gray scale images to bring \n",
        "            # down the channels of the Images from 3 to 1\n",
        "            im = self._gray_tfm(im)\n",
        "        \n",
        "        lbl = self._dataframe[\"cat_label\"][idx]   \n",
        "        return im, lbl"
      ],
      "execution_count": 187,
      "outputs": []
    },
    {
      "cell_type": "markdown",
      "metadata": {
        "id": "N6nmWjKsLwGX"
      },
      "source": [
        "This are the transformations that we will use for *augmenting* our images. Notice how many of the transformations are related to the `Lighting` of the Image."
      ]
    },
    {
      "cell_type": "code",
      "metadata": {
        "id": "xWfTw8feL0IR"
      },
      "source": [
        "aug_transforms = A.Compose([\n",
        "    A.Resize(IMG_SIZE, IMG_SIZE, p=1.0),\n",
        "    A.ColorJitter(0.5, 0.5, 0.5, 0.5, p=0.5),\n",
        "    A.Equalize(p=0.5), \n",
        "    A.MultiplicativeNoise(multiplier=[0.5, 1.5], elementwise=True, per_channel=True, p=0.5),\n",
        "    A.OneOf([A.Blur(blur_limit=3), A.GaussianBlur(blur_limit=(3, 3))], p=0.5),\n",
        "    A.JpegCompression(quality_lower=0, quality_upper=10, p=0.5),\n",
        "    A.Cutout(fill_value=200, num_holes=5, p=0.5,),\n",
        "    A.Normalize(MEAN, STD, p=1.0),\n",
        "    ToTensor(p=1.0),\n",
        "])\n",
        "\n",
        "base_tfms = A.Compose([\n",
        "    A.Resize(IMG_SIZE, IMG_SIZE, p=1.0),\n",
        "    A.CenterCrop(IMG_SIZE, IMG_SIZE, p=1.0),\n",
        "    A.Normalize(MEAN, STD, p=1.0),\n",
        "    ToTensor(p=1.0),\n",
        "])\n",
        "\n",
        "def get_loaders():\n",
        "    # instantiate the dataset set obj\n",
        "    train_ds = Dataset_01_V2(df=TRAIN_DATASET_01, transforms=aug_transforms)\n",
        "    valid_ds = Dataset_01_V2(df=VALID_DATASET_01, transforms=base_tfms)\n",
        "\n",
        "    # create the dataloaders obj\n",
        "    train_dl = DataLoader(train_ds, batch_size=32, num_workers=num_cpus(), shuffle=True) \n",
        "    valid_dl = DataLoader(valid_ds, batch_size=32, num_workers=num_cpus(), shuffle=False)\n",
        "    return train_dl, valid_dl"
      ],
      "execution_count": 188,
      "outputs": []
    },
    {
      "cell_type": "markdown",
      "metadata": {
        "id": "F6bTAoFDMzK1"
      },
      "source": [
        "Increasing `weight_decay` and applying heavy *data augmentation* are used mainly to reduce overffiting of the model on the training data. Another method I am going to apply on is the reduce the number of training epochs. Reducing the number of training epochs can help to reduce overfitting."
      ]
    },
    {
      "cell_type": "code",
      "metadata": {
        "colab": {
          "base_uri": "https://localhost:8080/",
          "height": 642
        },
        "id": "4VatDRP5IdUk",
        "outputId": "f5a5f5a2-a958-4d85-b885-b97e117e34c6"
      },
      "source": [
        "%%time\n",
        "\n",
        "model = XResidualCnn_SA(input_sz=IMG_SIZE, num_classes=len(encoder.classes_), lr=3e-03, wd=0.3)\n",
        "\n",
        "cbs = [\n",
        "    ModelCheckpoint(monitor=\"val_loss\", filename=\"MXResidualCnn_SA\", dirpath=\"Checkpoints/\"), \n",
        "    NotebookProgressCallback()\n",
        "]\n",
        "\n",
        "trainer = pl.Trainer(max_epochs=15, callbacks=cbs, weights_summary=None, precision=16, gpus=1)\n",
        "\n",
        "train_dl, valid_dl = get_loaders()\n",
        "trainer.fit(model, train_dataloader=train_dl, val_dataloaders=valid_dl)"
      ],
      "execution_count": 190,
      "outputs": [
        {
          "output_type": "stream",
          "text": [
            "GPU available: True, used: True\n",
            "TPU available: False, using: 0 TPU cores\n",
            "Using native 16bit precision.\n",
            "LOCAL_RANK: 0 - CUDA_VISIBLE_DEVICES: [0]\n"
          ],
          "name": "stderr"
        },
        {
          "output_type": "display_data",
          "data": {
            "text/html": [
              ""
            ],
            "text/plain": [
              "<IPython.core.display.HTML object>"
            ]
          },
          "metadata": {
            "tags": []
          }
        },
        {
          "output_type": "display_data",
          "data": {
            "text/html": [
              "\n",
              "    <div>\n",
              "        <style>\n",
              "            progress {\n",
              "                border: none;\n",
              "                background-size: auto;\n",
              "            }\n",
              "        </style>\n",
              "      Training\n",
              "      <progress value='930' max='930' style='width:300px; height:20px; vertical-align: middle;'></progress>\n",
              "      [930/930 05:41, Epoch 14 {'loss': '0.62', 'v_num': 25}]\n",
              "    </div>\n",
              "    <table border=\"1\" class=\"dataframe\">\n",
              "  <thead>\n",
              "    <tr style=\"text-align: left;\">\n",
              "      <th>Epoch</th>\n",
              "      <th>Val Loss</th>\n",
              "      <th>Val Acc</th>\n",
              "      <th>Train Loss</th>\n",
              "      <th>Time</th>\n",
              "      <th>Samples /s</th>\n",
              "    </tr>\n",
              "  </thead>\n",
              "  <tbody>\n",
              "    <tr>\n",
              "      <td>0</td>\n",
              "      <td>3.639451</td>\n",
              "      <td>0.078629</td>\n",
              "      <td>4.028078</td>\n",
              "      <td>4.346700</td>\n",
              "      <td>17.944500</td>\n",
              "    </tr>\n",
              "    <tr>\n",
              "      <td>1</td>\n",
              "      <td>3.345837</td>\n",
              "      <td>0.125000</td>\n",
              "      <td>3.652286</td>\n",
              "      <td>4.248900</td>\n",
              "      <td>18.357800</td>\n",
              "    </tr>\n",
              "    <tr>\n",
              "      <td>2</td>\n",
              "      <td>2.784723</td>\n",
              "      <td>0.247984</td>\n",
              "      <td>3.008191</td>\n",
              "      <td>4.313100</td>\n",
              "      <td>18.084300</td>\n",
              "    </tr>\n",
              "    <tr>\n",
              "      <td>3</td>\n",
              "      <td>1.809733</td>\n",
              "      <td>0.445565</td>\n",
              "      <td>2.062774</td>\n",
              "      <td>4.296600</td>\n",
              "      <td>18.153900</td>\n",
              "    </tr>\n",
              "    <tr>\n",
              "      <td>4</td>\n",
              "      <td>1.425505</td>\n",
              "      <td>0.566532</td>\n",
              "      <td>1.713639</td>\n",
              "      <td>4.364900</td>\n",
              "      <td>17.869700</td>\n",
              "    </tr>\n",
              "    <tr>\n",
              "      <td>5</td>\n",
              "      <td>1.288768</td>\n",
              "      <td>0.586694</td>\n",
              "      <td>1.781099</td>\n",
              "      <td>4.370300</td>\n",
              "      <td>17.847800</td>\n",
              "    </tr>\n",
              "    <tr>\n",
              "      <td>6</td>\n",
              "      <td>0.999913</td>\n",
              "      <td>0.663306</td>\n",
              "      <td>1.533721</td>\n",
              "      <td>4.322000</td>\n",
              "      <td>18.047400</td>\n",
              "    </tr>\n",
              "    <tr>\n",
              "      <td>7</td>\n",
              "      <td>0.932930</td>\n",
              "      <td>0.703629</td>\n",
              "      <td>1.271192</td>\n",
              "      <td>4.296000</td>\n",
              "      <td>18.156500</td>\n",
              "    </tr>\n",
              "    <tr>\n",
              "      <td>8</td>\n",
              "      <td>0.775831</td>\n",
              "      <td>0.750000</td>\n",
              "      <td>0.818536</td>\n",
              "      <td>4.426900</td>\n",
              "      <td>17.619700</td>\n",
              "    </tr>\n",
              "    <tr>\n",
              "      <td>9</td>\n",
              "      <td>0.890355</td>\n",
              "      <td>0.739919</td>\n",
              "      <td>1.140897</td>\n",
              "      <td>4.385900</td>\n",
              "      <td>17.784400</td>\n",
              "    </tr>\n",
              "    <tr>\n",
              "      <td>10</td>\n",
              "      <td>0.726429</td>\n",
              "      <td>0.770161</td>\n",
              "      <td>0.691845</td>\n",
              "      <td>4.290900</td>\n",
              "      <td>18.178100</td>\n",
              "    </tr>\n",
              "    <tr>\n",
              "      <td>11</td>\n",
              "      <td>0.760768</td>\n",
              "      <td>0.764113</td>\n",
              "      <td>1.163687</td>\n",
              "      <td>4.256800</td>\n",
              "      <td>18.323700</td>\n",
              "    </tr>\n",
              "    <tr>\n",
              "      <td>12</td>\n",
              "      <td>0.655969</td>\n",
              "      <td>0.786290</td>\n",
              "      <td>1.158166</td>\n",
              "      <td>4.306400</td>\n",
              "      <td>18.112700</td>\n",
              "    </tr>\n",
              "    <tr>\n",
              "      <td>13</td>\n",
              "      <td>0.589133</td>\n",
              "      <td>0.824597</td>\n",
              "      <td>0.472385</td>\n",
              "      <td>4.289800</td>\n",
              "      <td>18.182700</td>\n",
              "    </tr>\n",
              "    <tr>\n",
              "      <td>14</td>\n",
              "      <td>0.660171</td>\n",
              "      <td>0.824597</td>\n",
              "      <td>0.436120</td>\n",
              "      <td>4.352800</td>\n",
              "      <td>17.919500</td>\n",
              "    </tr>\n",
              "  </tbody>\n",
              "</table><p>"
            ],
            "text/plain": [
              "<IPython.core.display.HTML object>"
            ]
          },
          "metadata": {
            "tags": []
          }
        },
        {
          "output_type": "stream",
          "text": [
            "CPU times: user 30.8 s, sys: 5.2 s, total: 36 s\n",
            "Wall time: 5min 43s\n"
          ],
          "name": "stdout"
        }
      ]
    },
    {
      "cell_type": "code",
      "metadata": {
        "colab": {
          "base_uri": "https://localhost:8080/",
          "height": 68
        },
        "id": "kXfnCTjaMQU0",
        "outputId": "88a61c7c-b172-4d91-c8ed-2b955451e0a8"
      },
      "source": [
        "tst_res = trainer.test(ckpt_path=\"best\", test_dataloaders=[train_dl, valid_dl], verbose=False)\n",
        "trn_acc, val_acc = tst_res[0][\"test_acc/dataloader_idx_0\"], tst_res[1][\"test_acc/dataloader_idx_1\"]\n",
        "print(\"Final Training Accuracy: \", round(trn_acc, 3))\n",
        "print(\"Final Validation Accuracy: \", round(val_acc, 3))"
      ],
      "execution_count": 191,
      "outputs": [
        {
          "output_type": "stream",
          "text": [
            "LOCAL_RANK: 0 - CUDA_VISIBLE_DEVICES: [0]\n"
          ],
          "name": "stderr"
        },
        {
          "output_type": "display_data",
          "data": {
            "text/html": [
              ""
            ],
            "text/plain": [
              "<IPython.core.display.HTML object>"
            ]
          },
          "metadata": {
            "tags": []
          }
        },
        {
          "output_type": "stream",
          "text": [
            "Final Training Accuracy:  0.849\n",
            "Final Validation Accuracy:  0.825\n"
          ],
          "name": "stdout"
        }
      ]
    },
    {
      "cell_type": "code",
      "metadata": {
        "id": "1DADgfkmMU4I"
      },
      "source": [
        "try:\n",
        "    del model, trainer\n",
        "except: \n",
        "    pass\n",
        "try:\n",
        "    del train_dl, valid_dl\n",
        "except: \n",
        "    pass\n",
        "gc.collect()\n",
        "torch.cuda.empty_cache()"
      ],
      "execution_count": 192,
      "outputs": []
    },
    {
      "cell_type": "code",
      "metadata": {
        "id": "KL72dj6VMQaI"
      },
      "source": [
        ""
      ],
      "execution_count": null,
      "outputs": []
    },
    {
      "cell_type": "code",
      "metadata": {
        "id": "fydtjP33IdYN"
      },
      "source": [
        ""
      ],
      "execution_count": null,
      "outputs": []
    },
    {
      "cell_type": "code",
      "metadata": {
        "id": "aLajU9VUzmh-"
      },
      "source": [
        ""
      ],
      "execution_count": null,
      "outputs": []
    },
    {
      "cell_type": "code",
      "metadata": {
        "id": "R1d3i1s1zYgq"
      },
      "source": [
        ""
      ],
      "execution_count": null,
      "outputs": []
    },
    {
      "cell_type": "code",
      "metadata": {
        "id": "WYdTIWN2zYjd"
      },
      "source": [
        ""
      ],
      "execution_count": null,
      "outputs": []
    }
  ]
}